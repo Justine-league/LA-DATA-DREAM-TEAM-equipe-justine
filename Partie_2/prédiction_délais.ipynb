{
 "cells": [
  {
   "cell_type": "markdown",
   "id": "7f7a6478-9659-41ae-a860-64c36f36dad9",
   "metadata": {},
   "source": [
    "<div style=\"display: flex; background-color: RGB(204,0,102);\" >\n",
    "<h1 style=\"margin: auto; padding: 30px; \">La Préduction des délais de livraison </h1>\n",
    "</div>"
   ]
  },
  {
   "cell_type": "markdown",
   "id": "cbb7f37a-930f-4038-be98-415253c684c5",
   "metadata": {},
   "source": [
    "<div style=\"background-color: RGB(218,112,214);\" >\n",
    "<h2 style=\"margin: auto; padding: 20px; color:#fff; \">Partie 1 - Librairies et fichiers csv</h2>\n",
    "</div>"
   ]
  },
  {
   "cell_type": "markdown",
   "id": "706758d0-03b5-420c-b965-a8627e7166c0",
   "metadata": {},
   "source": [
    "<div style=\"border: 1px solid RGB(218,112,214);\" >\n",
    "<h3 style=\"margin: auto; padding: 20px; color: RGB(218,112,214); \">1.1 - Importation des librairies</h3>\n",
    "</div>"
   ]
  },
  {
   "cell_type": "code",
   "execution_count": 1,
   "id": "01dca2f6-7eb5-44ab-b2bb-7409f6efa9a2",
   "metadata": {},
   "outputs": [],
   "source": [
    "import matplotlib.pyplot as plt\n",
    "from sklearn import svm, datasets, metrics\n",
    "from sklearn.model_selection import train_test_split\n",
    "from sklearn.linear_model import LinearRegression\n",
    "from sklearn.metrics import mean_squared_error, r2_score\n",
    "import pandas as pd\n",
    "import numpy as np\n",
    "import seaborn as sns"
   ]
  },
  {
   "cell_type": "markdown",
   "id": "8e4a2f43-aaa8-4f9d-90f2-0a0f01f8f12b",
   "metadata": {},
   "source": [
    "<div style=\"border: 1px solid RGB(218,112,214);\" >\n",
    "<h3 style=\"margin: auto; padding: 20px; color: RGB(218,112,214); \">1.2 - Importation de fichier csv</h3>\n",
    "</div>"
   ]
  },
  {
   "cell_type": "code",
   "execution_count": 2,
   "id": "5aeef542-ec89-495b-a4b3-78e171e1a434",
   "metadata": {},
   "outputs": [],
   "source": [
    "data_base = pd.read_csv(\"data_base.csv\")\n",
    "\n"
   ]
  },
  {
   "cell_type": "markdown",
   "id": "8ddbf67a-88ec-4335-87c6-ba5e68151b3e",
   "metadata": {},
   "source": [
    "<div style=\"background-color: RGB(218,112,214);\" >\n",
    "<h2 style=\"margin: auto; padding: 20px; color:#fff; \">Partie 2 - Analyse et models</h2>\n",
    "</div>"
   ]
  },
  {
   "cell_type": "markdown",
   "id": "dd093eba-b581-468d-9110-bb237c3bc280",
   "metadata": {},
   "source": [
    "<div style=\"border: 1px solid RGB(218,112,214);\" >\n",
    "<h3 style=\"margin: auto; padding: 20px; color: RGB(218,112,214); \">2.1 - Choix des données</h3>\n",
    "</div>"
   ]
  },
  {
   "cell_type": "code",
   "execution_count": 3,
   "id": "5e174d86-c965-4eb3-a40d-a6d9ce911244",
   "metadata": {},
   "outputs": [],
   "source": [
    "data= data_base[[\"prix_de_livraison\", \"distance\", \"days_to_delivery\"]]\n",
    "data= data.dropna()\n",
    "X = data.iloc[:,:-1]\n",
    "Y = data.iloc[:,-1]\n",
    "\n",
    "#X = np.array(X)\n",
    "#Y = np.array(Y)\n",
    "#diviser le dataset\n"
   ]
  },
  {
   "cell_type": "markdown",
   "id": "be823b49-4393-4c7b-ad64-227217c6ead9",
   "metadata": {},
   "source": [
    "<div style=\"border: 1px solid RGB(218,112,214);\" >\n",
    "<h3 style=\"margin: auto; padding: 20px; color: RGB(218,112,214); \">2.2 - Divisez les données</h3>\n",
    "</div>"
   ]
  },
  {
   "cell_type": "code",
   "execution_count": 4,
   "id": "97d02189-8635-40b9-b63e-ebd62e7688d4",
   "metadata": {},
   "outputs": [],
   "source": [
    "X_train, X_test, Y_train, Y_test = train_test_split(X,Y,test_size=0.2)"
   ]
  },
  {
   "cell_type": "code",
   "execution_count": null,
   "id": "56b2349a-f1f7-4a6d-bfd4-906fe0bb86b9",
   "metadata": {},
   "outputs": [],
   "source": []
  },
  {
   "cell_type": "markdown",
   "id": "3cdc6914-7994-433d-8074-a9057f786ebf",
   "metadata": {},
   "source": [
    "<div style=\"border: 1px solid RGB(218,112,214);\" >\n",
    "<h3 style=\"margin: auto; padding: 20px; color: RGB(218,112,214); \">2.3 - Création de model et la prédiction </h3>\n",
    "</div>"
   ]
  },
  {
   "cell_type": "markdown",
   "id": "b90379f6-7f11-4ea5-a0a5-6a2049f3948a",
   "metadata": {},
   "source": [
    "<div style=\"background-color: RGB(64,224,208);\" >\n",
    "<h3 style=\"margin: auto; padding: 20px; color: RGB(128,0,128); \"> Regression Linear</h3>\n",
    "</div>"
   ]
  },
  {
   "cell_type": "code",
   "execution_count": 5,
   "id": "45740d1b-de7d-4d43-b8ca-65748824d19f",
   "metadata": {},
   "outputs": [
    {
     "data": {
      "text/plain": [
       "array([10.24570887, 11.6909035 , 12.37357026, ..., 19.69286664,\n",
       "       11.62909102, 20.70380688])"
      ]
     },
     "execution_count": 5,
     "metadata": {},
     "output_type": "execute_result"
    }
   ],
   "source": [
    "#construire le modèle\n",
    "\n",
    "regressor = LinearRegression()\n",
    "regressor.fit(X_train, Y_train)\n",
    "\n",
    "#faire des prédictions\n",
    "Y_pred = regressor.predict(X_test)\n",
    "Y_pred"
   ]
  },
  {
   "cell_type": "code",
   "execution_count": 6,
   "id": "833363c2-0085-4782-9d55-74b64bd49e17",
   "metadata": {},
   "outputs": [
    {
     "data": {
      "text/plain": [
       "73809      3.0\n",
       "83295     46.0\n",
       "12872     24.0\n",
       "98317     10.0\n",
       "109525    12.0\n",
       "          ... \n",
       "87828     18.0\n",
       "70008      4.0\n",
       "27462     16.0\n",
       "44087     15.0\n",
       "53063     43.0\n",
       "Name: days_to_delivery, Length: 21932, dtype: float64"
      ]
     },
     "execution_count": 6,
     "metadata": {},
     "output_type": "execute_result"
    }
   ],
   "source": [
    "Y_test"
   ]
  },
  {
   "cell_type": "code",
   "execution_count": 7,
   "id": "a66ecd0c-b6fa-4b4b-a508-9a52e427f2d4",
   "metadata": {},
   "outputs": [
    {
     "name": "stdout",
     "output_type": "stream",
     "text": [
      "Coefficients: \n",
      " [0.04316844 0.00588802]\n",
      "Mean squared error: 70.20\n",
      "Coefficient of determination: 0.16\n"
     ]
    },
    {
     "data": {
      "image/png": "[encoded data removed]",
      "text/plain": [
       "<Figure size 432x288 with 1 Axes>"
      ]
     },
     "metadata": {
      "needs_background": "light"
     },
     "output_type": "display_data"
    }
   ],
   "source": [
    "sns.regplot(x=Y_test,y=Y_pred,ci=None,color ='red');\n",
    "plt.scatter(Y_test,Y_pred, color='blue')\n",
    "plt.title('délais de livraison per prix et distance')\n",
    "plt.xlabel('days_to_delivery');\n",
    "plt.ylabel('predicted');\n",
    "\n",
    "# The coefficients\n",
    "print(\"Coefficients: \\n\", regressor.coef_)\n",
    "# The mean squared error\n",
    "print(\"Mean squared error: %.2f\" % mean_squared_error(Y_test, Y_pred))\n",
    "# The coefficient of determination: 1 is perfect prediction\n",
    "print(\"Coefficient of determination: %.2f\" % r2_score(Y_test, Y_pred))\n"
   ]
  },
  {
   "cell_type": "code",
   "execution_count": null,
   "id": "1c3a3fc9-0859-44bc-9c76-6190a1d87f36",
   "metadata": {},
   "outputs": [],
   "source": []
  },
  {
   "cell_type": "markdown",
   "id": "05d77a56-5f53-41ff-bb5d-411f0f58863c",
   "metadata": {},
   "source": [
    "<div style=\"background-color: RGB(64,224,208);\" >\n",
    "<h3 style=\"margin: auto; padding: 20px; color: RGB(128,0,128); \"> Regression Ridge</h3>\n",
    "</div>"
   ]
  },
  {
   "cell_type": "code",
   "execution_count": 8,
   "id": "c577a748-39b8-4fee-958f-d440ad1f7d14",
   "metadata": {},
   "outputs": [],
   "source": [
    "from sklearn.model_selection import cross_val_score\n",
    "from sklearn.model_selection import RepeatedKFold\n",
    "from sklearn.linear_model import Ridge\n",
    "# define model\n",
    "model = Ridge(alpha=1.0)"
   ]
  },
  {
   "cell_type": "code",
   "execution_count": 9,
   "id": "03c2a27d-ab6e-4b4f-a718-17ac6439932d",
   "metadata": {},
   "outputs": [
    {
     "name": "stdout",
     "output_type": "stream",
     "text": [
      "Mean MAE: 5.502 (0.151)\n",
      "[10.24570888 11.69090351 12.37357023 ... 19.69286666 11.62909103\n",
      " 20.70380686]\n",
      "Coefficient of determination: 0.16\n"
     ]
    },
    {
     "data": {
      "image/png": "[encoded data removed]",
      "text/plain": [
       "<Figure size 432x288 with 1 Axes>"
      ]
     },
     "metadata": {
      "needs_background": "light"
     },
     "output_type": "display_data"
    }
   ],
   "source": [
    "# define model evaluation method\n",
    "cv = RepeatedKFold(n_splits=10, n_repeats=3, random_state=1)\n",
    "# evaluate model\n",
    "scores = cross_val_score(model, X_test, Y_test, scoring='neg_mean_absolute_error', cv=cv, n_jobs=-1)\n",
    "# force scores to be positive\n",
    "scores = np.absolute(scores)\n",
    "print('Mean MAE: %.3f (%.3f)' % (np.mean(scores), np.std(scores)))\n",
    "\n",
    "# fit model\n",
    "model.fit(X_train , Y_train)\n",
    "\n",
    "# make a prediction\n",
    "y_hat = model.predict(X_test)\n",
    "# summarize prediction\n",
    "print( y_hat)\n",
    "\n",
    "# The coefficient of determination: 1 is perfect prediction\n",
    "print(\"Coefficient of determination: %.2f\" % r2_score(Y_test, y_hat))\n",
    "\n",
    "sns.regplot(x=Y_test,y=y_hat,ci=None,color ='red');\n",
    "plt.scatter(Y_test,y_hat, color='blue')\n",
    "plt.title('délais de livraison per prix et distance')\n",
    "plt.xlabel('days_to_delivery');\n",
    "plt.ylabel('predicted');"
   ]
  },
  {
   "cell_type": "code",
   "execution_count": null,
   "id": "e9d26fa1-bece-484e-bf08-7226389360b9",
   "metadata": {},
   "outputs": [],
   "source": []
  },
  {
   "cell_type": "markdown",
   "id": "edf4fdc3-3fbe-46e3-8cc9-3d7b45e5f35b",
   "metadata": {},
   "source": [
    "<div style=\"background-color: RGB(64,224,208);\" >\n",
    "<h3 style=\"margin: auto; padding: 20px; color: RGB(128,0,128); \"> Regression Lasso</h3>\n",
    "</div>"
   ]
  },
  {
   "cell_type": "code",
   "execution_count": 10,
   "id": "37ed9757-407c-4869-a657-3d7e93466e49",
   "metadata": {},
   "outputs": [
    {
     "name": "stdout",
     "output_type": "stream",
     "text": [
      "0.16383919133156677\n",
      "[0.04312101 0.00588848]\n",
      "7.653434438350893\n"
     ]
    }
   ],
   "source": [
    "from sklearn.linear_model import Lasso , LassoCV\n",
    "from sklearn.model_selection import GridSearchCV\n",
    "\n",
    "# define model\n",
    "lasso = Lasso(alpha= 0.01)\n",
    "# fit model\n",
    "lasso.fit(X_train, Y_train)\n",
    "\n",
    "y_las = lasso.predict(X_test)\n",
    "\n",
    "print(lasso.score(X_test,Y_test))\n",
    "print(lasso.coef_)\n",
    "print(lasso.intercept_)"
   ]
  },
  {
   "cell_type": "code",
   "execution_count": 11,
   "id": "ba209e64-50c4-4193-aac0-9ec8da15671f",
   "metadata": {},
   "outputs": [
    {
     "name": "stdout",
     "output_type": "stream",
     "text": [
      "Coefficients: \n",
      " [0.04316844 0.00588802]\n",
      "Mean squared error: 70.20\n",
      "Coefficient of determination: 0.16\n"
     ]
    },
    {
     "data": {
      "image/png": "[encoded data removed]",
      "text/plain": [
       "<Figure size 432x288 with 1 Axes>"
      ]
     },
     "metadata": {
      "needs_background": "light"
     },
     "output_type": "display_data"
    }
   ],
   "source": [
    "sns.regplot(x=Y_test,y=y_las,ci=None,color ='red');\n",
    "plt.scatter(Y_test,y_las, color='blue')\n",
    "plt.title('Freight_value per predict_value')\n",
    "plt.xlabel('freight_value');\n",
    "plt.ylabel('predicted');\n",
    "# The coefficients\n",
    "print(\"Coefficients: \\n\", regressor.coef_)\n",
    "# The mean squared error\n",
    "print(\"Mean squared error: %.2f\" % mean_squared_error(Y_test, y_las))\n",
    "# The coefficient of determination: 1 is perfect prediction\n",
    "print(\"Coefficient of determination: %.2f\" % r2_score(Y_test, y_las))\n"
   ]
  },
  {
   "cell_type": "code",
   "execution_count": null,
   "id": "e848325d-0519-4f95-99b7-2afdc76e24dd",
   "metadata": {},
   "outputs": [],
   "source": []
  },
  {
   "cell_type": "markdown",
   "id": "1a9ff3df-121f-4a33-8702-b68f6e81fe81",
   "metadata": {},
   "source": [
    "<div style=\"background-color: RGB(64,224,208);\" >\n",
    "<h3 style=\"margin: auto; padding: 20px; color: RGB(128,0,128); \"> Regression ElasticNet</h3>\n",
    "</div>"
   ]
  },
  {
   "cell_type": "code",
   "execution_count": 12,
   "id": "729daf97-ade8-4021-b825-1db6dd87902c",
   "metadata": {},
   "outputs": [
    {
     "name": "stdout",
     "output_type": "stream",
     "text": [
      "[0.0406911  0.00591219]\n",
      "7.687795191855582\n",
      "0.16382570847164712\n"
     ]
    }
   ],
   "source": [
    "from sklearn.linear_model import ElasticNet\n",
    "\n",
    "regr = ElasticNet(random_state=0)\n",
    "regr.fit(X_train, Y_train)\n",
    "\n",
    "print(regr.coef_)\n",
    "\n",
    "print(regr.intercept_)\n",
    "\n",
    "y_reg = regr.predict(X_test)\n",
    "\n",
    "print(regr.score(X_test, Y_test))"
   ]
  },
  {
   "cell_type": "code",
   "execution_count": 13,
   "id": "43f52ff1-aa8e-439e-8e51-6d2a87869e30",
   "metadata": {},
   "outputs": [
    {
     "name": "stdout",
     "output_type": "stream",
     "text": [
      "Coefficients: \n",
      " [0.0406911  0.00591219]\n",
      "Mean squared error: 70.20\n",
      "Coefficient of determination: 0.16\n"
     ]
    },
    {
     "data": {
      "image/png": "[encoded data removed]",
      "text/plain": [
       "<Figure size 432x288 with 1 Axes>"
      ]
     },
     "metadata": {
      "needs_background": "light"
     },
     "output_type": "display_data"
    }
   ],
   "source": [
    "sns.regplot(x=Y_test,y=y_reg,ci=None,color ='red');\n",
    "plt.scatter(Y_test,y_reg, color='blue')\n",
    "plt.title('Freight_value per predict_value')\n",
    "plt.xlabel('freight_value');\n",
    "plt.ylabel('predicted');\n",
    "# The coefficients\n",
    "print(\"Coefficients: \\n\", regr.coef_)\n",
    "# The mean squared error\n",
    "print(\"Mean squared error: %.2f\" % mean_squared_error(Y_test, y_reg))\n",
    "# The coefficient of determination: 1 is perfect prediction\n",
    "print(\"Coefficient of determination: %.2f\" % r2_score(Y_test, y_reg))\n"
   ]
  },
  {
   "cell_type": "code",
   "execution_count": null,
   "id": "bd5552c1-c9ab-4f0f-8897-f8a8adca91a3",
   "metadata": {},
   "outputs": [],
   "source": []
  },
  {
   "cell_type": "markdown",
   "id": "97ba79d6-ea94-4c5f-893b-80ca5b87f967",
   "metadata": {},
   "source": [
    "<div style=\"background-color: RGB(64,224,208);\" >\n",
    "<h3 style=\"margin: auto; padding: 20px; color: RGB(128,0,128); \"> Dummy Regressor</h3>\n",
    "</div>"
   ]
  },
  {
   "cell_type": "code",
   "execution_count": 16,
   "id": "a27069c7-32b8-432d-9167-bcd6fc5299d0",
   "metadata": {},
   "outputs": [
    {
     "data": {
      "text/plain": [
       "array([10., 10., 10., ..., 10., 10., 10.])"
      ]
     },
     "execution_count": 16,
     "metadata": {},
     "output_type": "execute_result"
    }
   ],
   "source": [
    "\n",
    "from sklearn.dummy import DummyRegressor\n",
    "from sklearn.metrics import mean_squared_error, r2_score, median_absolute_error\n",
    "\n",
    "\n",
    "\n",
    "dummy_mean = DummyRegressor(strategy = 'mean')\n",
    "dummy_mean.fit(X_train, Y_train)\n",
    "\n",
    "dummy_median = DummyRegressor(strategy = 'median').fit(X_train, Y_train)\n",
    "dummy_median.fit(X_train, Y_train)\n",
    "\n",
    "\n",
    "y_predict_dummy_mean = dummy_mean.predict(X_test)\n",
    "y_predict_dummy_median = dummy_median.predict(X_test)\n",
    "y_predict_dummy_median"
   ]
  },
  {
   "cell_type": "code",
   "execution_count": 17,
   "id": "00c40c84-035a-4a3f-bb4f-4a0f7dd915ea",
   "metadata": {},
   "outputs": [
    {
     "data": {
      "text/plain": [
       "73809      3.0\n",
       "83295     46.0\n",
       "12872     24.0\n",
       "98317     10.0\n",
       "109525    12.0\n",
       "          ... \n",
       "87828     18.0\n",
       "70008      4.0\n",
       "27462     16.0\n",
       "44087     15.0\n",
       "53063     43.0\n",
       "Name: days_to_delivery, Length: 21932, dtype: float64"
      ]
     },
     "execution_count": 17,
     "metadata": {},
     "output_type": "execute_result"
    }
   ],
   "source": [
    "Y_test"
   ]
  },
  {
   "cell_type": "code",
   "execution_count": 18,
   "id": "4e8be78c-bbe1-49a1-9987-738a8d8dd30b",
   "metadata": {},
   "outputs": [
    {
     "name": "stdout",
     "output_type": "stream",
     "text": [
      "Mean squared error (dummy): 83.96\n",
      "Median absolute error (dummy): 4.00\n",
      "r2_score (dummy mean): -0.00\n",
      "r2_score (dummy median): -0.04\n"
     ]
    }
   ],
   "source": [
    "print(\"Mean squared error (dummy): {:.2f}\".format(mean_squared_error(Y_test, \n",
    "                                                                     y_predict_dummy_mean)))\n",
    "  \n",
    "print(\"Median absolute error (dummy): {:.2f}\".format(median_absolute_error(Y_test, \n",
    "                                                                    y_predict_dummy_median)))\n",
    "  \n",
    "print(\"r2_score (dummy mean): {:.2f}\".format(r2_score(Y_test, y_predict_dummy_mean)))\n",
    "print(\"r2_score (dummy median): {:.2f}\".format(r2_score(Y_test, y_predict_dummy_median)))\n"
   ]
  },
  {
   "cell_type": "code",
   "execution_count": null,
   "id": "a6cb77bf-38e8-4d95-80e0-7e62bc292439",
   "metadata": {},
   "outputs": [],
   "source": []
  }
 ],
 "metadata": {
  "kernelspec": {
   "display_name": "Python 3 (ipykernel)",
   "language": "python",
   "name": "python3"
  },
  "language_info": {
   "codemirror_mode": {
    "name": "ipython",
    "version": 3
   },
   "file_extension": ".py",
   "mimetype": "text/x-python",
   "name": "python",
   "nbconvert_exporter": "python",
   "pygments_lexer": "ipython3",
   "version": "3.9.12"
  }
 },
 "nbformat": 4,
 "nbformat_minor": 5
}
