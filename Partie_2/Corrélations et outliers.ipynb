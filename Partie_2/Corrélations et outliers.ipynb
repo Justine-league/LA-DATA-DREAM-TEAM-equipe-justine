{
 "cells": [
  {
   "cell_type": "markdown",
   "id": "7644d67d",
   "metadata": {},
   "source": [
    "# Corrélations entre les couples de variables"
   ]
  },
  {
   "cell_type": "code",
   "execution_count": 1,
   "id": "e35c2265",
   "metadata": {},
   "outputs": [],
   "source": [
    "import sqlite3\n",
    "from sqlite3 import Error\n",
    "import pandas as pd\n",
    "import numpy as np\n",
    "import seaborn as sns\n",
    "import geopy.distance\n",
    "import plotly.express as px\n",
    "\n",
    "import matplotlib.pyplot as plt\n",
    "\n",
    "import urllib.request\n",
    "import json"
   ]
  },
  {
   "cell_type": "markdown",
   "id": "9d3f7f45",
   "metadata": {},
   "source": [
    "# Récupération des données "
   ]
  },
  {
   "cell_type": "code",
   "execution_count": 2,
   "id": "e869a95c",
   "metadata": {},
   "outputs": [
    {
     "name": "stdout",
     "output_type": "stream",
     "text": [
      "2.6.0\n"
     ]
    },
    {
     "data": {
      "text/plain": [
       "<sqlite3.Connection at 0x7f86a9757e40>"
      ]
     },
     "execution_count": 2,
     "metadata": {},
     "output_type": "execute_result"
    }
   ],
   "source": [
    "db_name = \"../database/e-commerce.db\"\n",
    "\n",
    "def create_connection(db_file):\n",
    "    \"\"\" create a database connection to the SQLite database\n",
    "        specified by db_file\n",
    "    :param db_file: database file\n",
    "    :return: Connection object or None\n",
    "    \"\"\"\n",
    "    # YOUR CODE\n",
    "    try:\n",
    "        conn = sqlite3.connect(db_file)\n",
    "        print(sqlite3.version)\n",
    "        return conn\n",
    "    except Error as e:\n",
    "        print(e)\n",
    "        \n",
    "\n",
    "\n",
    "conn = create_connection(db_name)\n",
    "conn"
   ]
  },
  {
   "cell_type": "code",
   "execution_count": 6,
   "id": "e83c0044",
   "metadata": {},
   "outputs": [
    {
     "ename": "OperationalError",
     "evalue": "no such table: product",
     "output_type": "error",
     "traceback": [
      "\u001b[0;31m---------------------------------------------------------------------------\u001b[0m",
      "\u001b[0;31mOperationalError\u001b[0m                          Traceback (most recent call last)",
      "\u001b[0;32m/var/folders/41/fr8r1hg95gl997_7cjm1cmk80000gn/T/ipykernel_2868/885438433.py\u001b[0m in \u001b[0;36m<module>\u001b[0;34m\u001b[0m\n\u001b[1;32m      1\u001b[0m \u001b[0mcur\u001b[0m \u001b[0;34m=\u001b[0m \u001b[0mconn\u001b[0m\u001b[0;34m.\u001b[0m\u001b[0mcursor\u001b[0m\u001b[0;34m(\u001b[0m\u001b[0;34m)\u001b[0m\u001b[0;34m\u001b[0m\u001b[0;34m\u001b[0m\u001b[0m\n\u001b[1;32m      2\u001b[0m \u001b[0;31m#     the table wight_cm can become width_cm   --> order_delivered_carrier_date == order_delivered_customer_date\u001b[0m\u001b[0;34m\u001b[0m\u001b[0;34m\u001b[0m\u001b[0m\n\u001b[0;32m----> 3\u001b[0;31m cur.execute('''\n\u001b[0m\u001b[1;32m      4\u001b[0m             \u001b[0mSELECT\u001b[0m\u001b[0;34m\u001b[0m\u001b[0;34m\u001b[0m\u001b[0m\n\u001b[1;32m      5\u001b[0m             \u001b[0morder_item\u001b[0m\u001b[0;34m.\u001b[0m\u001b[0mitem_id\u001b[0m\u001b[0;34m,\u001b[0m\u001b[0;34m\u001b[0m\u001b[0;34m\u001b[0m\u001b[0m\n",
      "\u001b[0;31mOperationalError\u001b[0m: no such table: product"
     ]
    }
   ],
   "source": [
    "    cur = conn.cursor()\n",
    "#     the table wight_cm can become width_cm   --> order_delivered_carrier_date == order_delivered_customer_date\n",
    "    cur.execute('''\n",
    "                SELECT \n",
    "                order_item.item_id, \n",
    "                order_item.freight_value, \n",
    "                order_item.price, \n",
    "                weight_g,\n",
    "                lenght_cm, \n",
    "                height_cm, \n",
    "                width_cm, \n",
    "                customer.zip_code, \n",
    "                seller.zip_code, \n",
    "                order_dataset.purchase_timestamp,\n",
    "                order_dataset.order_estimated_delivery_date, \n",
    "                order_dataset.order_delivered_customer_date\n",
    "                FROM product\n",
    "                LEFT JOIN order_item ON product.id = order_item.product_id\n",
    "                LEFT JOIN order_dataset ON order_item.order_id = order_dataset.order_id\n",
    "                LEFT JOIN customer ON customer.id = order_dataset.customer_id          \n",
    "                LEFT JOIN seller ON order_item.seller_id = seller.id                \n",
    "                ''')\n",
    "    \n",
    "    res_cur = cur.fetchall()"
   ]
  },
  {
   "cell_type": "code",
   "execution_count": 7,
   "id": "d66ec618",
   "metadata": {},
   "outputs": [
    {
     "ename": "NameError",
     "evalue": "name 'res_cur' is not defined",
     "output_type": "error",
     "traceback": [
      "\u001b[0;31m---------------------------------------------------------------------------\u001b[0m",
      "\u001b[0;31mNameError\u001b[0m                                 Traceback (most recent call last)",
      "\u001b[0;32m/var/folders/41/fr8r1hg95gl997_7cjm1cmk80000gn/T/ipykernel_2868/2701406179.py\u001b[0m in \u001b[0;36m<module>\u001b[0;34m\u001b[0m\n\u001b[0;32m----> 1\u001b[0;31m \u001b[0mdf_bdd\u001b[0m \u001b[0;34m=\u001b[0m \u001b[0mpd\u001b[0m\u001b[0;34m.\u001b[0m\u001b[0mDataFrame\u001b[0m\u001b[0;34m(\u001b[0m\u001b[0mres_cur\u001b[0m\u001b[0;34m,\u001b[0m \u001b[0mcolumns\u001b[0m\u001b[0;34m=\u001b[0m\u001b[0;34m[\u001b[0m\u001b[0;34m\"nb_product\"\u001b[0m\u001b[0;34m,\u001b[0m \u001b[0;34m\"prix_de_livraison\"\u001b[0m\u001b[0;34m,\u001b[0m \u001b[0;34m\"product_price\"\u001b[0m\u001b[0;34m,\u001b[0m \u001b[0;34m\"weight\"\u001b[0m\u001b[0;34m,\u001b[0m \u001b[0;34m\"lenght\"\u001b[0m\u001b[0;34m,\u001b[0m \u001b[0;34m\"height\"\u001b[0m\u001b[0;34m,\u001b[0m \u001b[0;34m\"width\"\u001b[0m\u001b[0;34m,\u001b[0m \u001b[0;34m\"zip_code_customer\"\u001b[0m\u001b[0;34m,\u001b[0m \u001b[0;34m\"zip_code_seller\"\u001b[0m\u001b[0;34m,\u001b[0m \u001b[0;34m\"date_purchase\"\u001b[0m\u001b[0;34m,\u001b[0m \u001b[0;34m\"date_delevery_estimate\"\u001b[0m\u001b[0;34m,\u001b[0m \u001b[0;34m\"date_delivery\"\u001b[0m\u001b[0;34m]\u001b[0m\u001b[0;34m)\u001b[0m\u001b[0;34m\u001b[0m\u001b[0;34m\u001b[0m\u001b[0m\n\u001b[0m",
      "\u001b[0;31mNameError\u001b[0m: name 'res_cur' is not defined"
     ]
    }
   ],
   "source": [
    "df_bdd = pd.DataFrame(res_cur, columns=[\"nb_product\", \"prix_de_livraison\", \"product_price\", \"weight\", \"lenght\", \"height\", \"width\", \"zip_code_customer\", \"zip_code_seller\", \"date_purchase\", \"date_delevery_estimate\", \"date_delivery\"])"
   ]
  },
  {
   "cell_type": "code",
   "execution_count": 8,
   "id": "ffff486c",
   "metadata": {},
   "outputs": [
    {
     "ename": "OperationalError",
     "evalue": "no such table: geolocation",
     "output_type": "error",
     "traceback": [
      "\u001b[0;31m---------------------------------------------------------------------------\u001b[0m",
      "\u001b[0;31mOperationalError\u001b[0m                          Traceback (most recent call last)",
      "\u001b[0;32m/var/folders/41/fr8r1hg95gl997_7cjm1cmk80000gn/T/ipykernel_2868/2023674746.py\u001b[0m in \u001b[0;36m<module>\u001b[0;34m\u001b[0m\n\u001b[1;32m      1\u001b[0m \u001b[0mcur\u001b[0m \u001b[0;34m=\u001b[0m \u001b[0mconn\u001b[0m\u001b[0;34m.\u001b[0m\u001b[0mcursor\u001b[0m\u001b[0;34m(\u001b[0m\u001b[0;34m)\u001b[0m\u001b[0;34m\u001b[0m\u001b[0;34m\u001b[0m\u001b[0m\n\u001b[1;32m      2\u001b[0m \u001b[0;31m#     the table wight_cm can become width_cm   --> order_delivered_carrier_date == order_delivered_customer_date\u001b[0m\u001b[0;34m\u001b[0m\u001b[0;34m\u001b[0m\u001b[0m\n\u001b[0;32m----> 3\u001b[0;31m cur.execute('''\n\u001b[0m\u001b[1;32m      4\u001b[0m             \u001b[0mSELECT\u001b[0m\u001b[0;34m\u001b[0m\u001b[0;34m\u001b[0m\u001b[0m\n\u001b[1;32m      5\u001b[0m             \u001b[0mzip_code\u001b[0m\u001b[0;34m,\u001b[0m \u001b[0mlatitude\u001b[0m\u001b[0;34m,\u001b[0m \u001b[0mlongitude\u001b[0m\u001b[0;34m\u001b[0m\u001b[0;34m\u001b[0m\u001b[0m\n",
      "\u001b[0;31mOperationalError\u001b[0m: no such table: geolocation"
     ]
    }
   ],
   "source": [
    "cur = conn.cursor()\n",
    "#     the table wight_cm can become width_cm   --> order_delivered_carrier_date == order_delivered_customer_date\n",
    "cur.execute('''\n",
    "            SELECT \n",
    "            zip_code, latitude, longitude\n",
    "            FROM geolocation\n",
    "            ''')\n",
    "\n",
    "res_cur = cur.fetchall()\n",
    "\n",
    "df_geoloc = pd.DataFrame(res_cur, columns=[\"zip_code\", \"latitude\", \"longitude\"])"
   ]
  },
  {
   "cell_type": "code",
   "execution_count": null,
   "id": "8960c96e",
   "metadata": {},
   "outputs": [],
   "source": [
    "df_bdd = df_bdd.merge(df_geoloc.drop_duplicates(['zip_code']), left_on='zip_code_customer', right_on='zip_code', how=\"left\", suffixes = (\"\",\"_customer\"))"
   ]
  },
  {
   "cell_type": "code",
   "execution_count": null,
   "id": "c2657cd5",
   "metadata": {},
   "outputs": [],
   "source": [
    "df_bdd = df_bdd.merge(df_geoloc.drop_duplicates(['zip_code']), left_on='zip_code_seller', right_on='zip_code', how=\"left\", suffixes = (\"\",\"_seller\"))"
   ]
  },
  {
   "cell_type": "code",
   "execution_count": null,
   "id": "d1881464",
   "metadata": {},
   "outputs": [],
   "source": [
    "df_bdd = df_bdd.rename({'latitude': 'latitude_customer', 'longitude': 'longitude_customer'}, axis=1)"
   ]
  },
  {
   "cell_type": "code",
   "execution_count": null,
   "id": "cf0f5eee",
   "metadata": {},
   "outputs": [],
   "source": [
    "distance = {\"distance\" : []\n",
    "           }\n",
    "\n",
    "\n",
    "for latitude_customer, longitude_customer, latitude_seller, longitude_seller in df_bdd[[\"latitude_customer\",\"longitude_customer\", \"latitude_seller\", \"longitude_seller\"]].to_numpy():\n",
    "    coords_1 = (float(latitude_customer), float(longitude_customer))\n",
    "    coords_2 = (float(latitude_seller), float(longitude_seller))\n",
    "    try:\n",
    "        res = geopy.distance.geodesic(coords_1, coords_2).km\n",
    "        distance[\"distance\"].append(res)\n",
    "    except:\n",
    "        distance[\"distance\"].append(np.nan)\n",
    "    \n",
    "df_bdd[\"distance\"] = distance[\"distance\"]"
   ]
  },
  {
   "cell_type": "code",
   "execution_count": null,
   "id": "2f652a48",
   "metadata": {},
   "outputs": [],
   "source": [
    "days = []\n",
    "for date_purchase, date_delivery in df_bdd[[\"date_purchase\", \"date_delivery\"]].to_numpy():\n",
    "    try:\n",
    "        res = pd.to_datetime(date_delivery) - pd.to_datetime(date_purchase)\n",
    "        res = str(res).split(\" \")[0]\n",
    "        days.append(int(res))\n",
    "    except:         \n",
    "        days.append(np.nan)\n",
    "\n",
    "        \n",
    "df_bdd[\"days_to_delivery\"] = days\n",
    "df_bdd"
   ]
  },
  {
   "cell_type": "code",
   "execution_count": null,
   "id": "eb753019",
   "metadata": {},
   "outputs": [],
   "source": [
    "df_features = df_bdd[['prix_de_livraison','weight','lenght','height','width', 'distance', 'days_to_delivery','nb_product','product_price']]"
   ]
  },
  {
   "cell_type": "markdown",
   "id": "f68dfe80",
   "metadata": {},
   "source": [
    "## Ajout de la feature volume"
   ]
  },
  {
   "cell_type": "code",
   "execution_count": null,
   "id": "21ecb9e4",
   "metadata": {},
   "outputs": [],
   "source": [
    "df_features = df_features.assign(volume_cm3 = df_features['width'] * df_features['height'] * df_features['lenght'] )"
   ]
  },
  {
   "cell_type": "code",
   "execution_count": null,
   "id": "9c3c0f29",
   "metadata": {},
   "outputs": [],
   "source": [
    "df_features"
   ]
  },
  {
   "cell_type": "code",
   "execution_count": null,
   "id": "45af9ede",
   "metadata": {},
   "outputs": [],
   "source": [
    "# Suppression des lignes qui on au moins une valeurs nan\n",
    "df_features = df_features.dropna()\n",
    "df_features"
   ]
  },
  {
   "cell_type": "markdown",
   "id": "4d6f8865",
   "metadata": {},
   "source": [
    "## Création de la matrice de corrélation "
   ]
  },
  {
   "cell_type": "code",
   "execution_count": null,
   "id": "35bb89e2",
   "metadata": {},
   "outputs": [],
   "source": [
    "mask = np.triu(np.ones_like(df_features.corr()))\n",
    "heatmap = sns.heatmap(df_features.corr(), mask=mask, vmin=-1, vmax=1, annot=True)\n",
    "heatmap.set_title('Triangle Correlation Heatmap', fontdict={'fontsize':18}, pad=16);"
   ]
  },
  {
   "cell_type": "markdown",
   "id": "3978edf6",
   "metadata": {},
   "source": [
    "On voit que le volume est très correlé au poids, nous allons pas garder cette feature car même si elle simplifie les datas elle nous fait perdre de l'information. Les autres features ne semblent pas trop corrélées nous allons les garder."
   ]
  },
  {
   "cell_type": "code",
   "execution_count": null,
   "id": "c5c06598",
   "metadata": {},
   "outputs": [],
   "source": [
    "# Suppresion de la feature volume.\n",
    "df_features.drop(['volume_cm3'], axis=1, inplace=True)\n",
    "df_features"
   ]
  },
  {
   "cell_type": "markdown",
   "id": "5db570b8",
   "metadata": {},
   "source": [
    "# Détermination des outliers"
   ]
  },
  {
   "cell_type": "markdown",
   "id": "53a03c81",
   "metadata": {},
   "source": [
    "## Détermination de la normalité des valeurs"
   ]
  },
  {
   "cell_type": "markdown",
   "id": "7e73d549",
   "metadata": {},
   "source": [
    "On commence par derterminer si nos données suivent une loi normale, pour les cibles : prix de la livraison et délai de livraison."
   ]
  },
  {
   "cell_type": "markdown",
   "id": "d459f263",
   "metadata": {},
   "source": [
    "Contrôler la normalité des échantillons\n",
    "La p-value renvoyer par le test de shapiro doit être supérieur à 0.05 pour rester sur l'hypothèse nulle d'une distribution normale."
   ]
  },
  {
   "cell_type": "code",
   "execution_count": null,
   "id": "27fa0da8",
   "metadata": {},
   "outputs": [],
   "source": [
    "import scipy.stats"
   ]
  },
  {
   "cell_type": "code",
   "execution_count": null,
   "id": "415afa01",
   "metadata": {},
   "outputs": [],
   "source": [
    "scipy.stats.shapiro(df_features.prix_de_livraison)"
   ]
  },
  {
   "cell_type": "markdown",
   "id": "b5152bca",
   "metadata": {},
   "source": [
    "Nous avons trop de données pour utiliser cette méthode. Nous allons visualiser la distribution des données. "
   ]
  },
  {
   "cell_type": "code",
   "execution_count": null,
   "id": "acb38f0b",
   "metadata": {},
   "outputs": [],
   "source": [
    "px.histogram(df_features, x= 'prix_de_livraison')"
   ]
  },
  {
   "cell_type": "markdown",
   "id": "f2d2f245",
   "metadata": {},
   "source": [
    "Le prix de livraison ne semble pas suivre une loi normale."
   ]
  },
  {
   "cell_type": "code",
   "execution_count": null,
   "id": "fcb85c46",
   "metadata": {},
   "outputs": [],
   "source": [
    "scipy.stats.shapiro(df_features.days_to_delivery)"
   ]
  },
  {
   "cell_type": "code",
   "execution_count": null,
   "id": "78c2979a",
   "metadata": {},
   "outputs": [],
   "source": [
    "px.histogram(df_features, x= 'days_to_delivery')"
   ]
  },
  {
   "cell_type": "markdown",
   "id": "2fc819cf",
   "metadata": {},
   "source": [
    "Le delai de livraison ne semble pas suivre non plus un loi normale. Nos cibles ne suivant pas une loi normale, nous n'allons pas utiliser de Z score mais la méthode des quartilles."
   ]
  },
  {
   "cell_type": "code",
   "execution_count": null,
   "id": "991e5b4f",
   "metadata": {},
   "outputs": [],
   "source": [
    "# sauvergarde des données dans un csv pour éviter de lancer la récupération des datas à chaque fois.\n",
    "df_features.to_csv('/Users/justinelv/Documents/simplon/brief/Brief_13 LA DATA DREAM/LA-DATA-DREAM-TEAM-equipe-justine/features.csv', index=False)"
   ]
  },
  {
   "cell_type": "code",
   "execution_count": 9,
   "id": "83ec3cdd",
   "metadata": {},
   "outputs": [],
   "source": [
    "# création d'un dataframe à partir du csv.\n",
    "df_outliers = pd.read_csv('/Users/justinelv/Documents/simplon/brief/Brief_13 LA DATA DREAM/LA-DATA-DREAM-TEAM-equipe-justine/features.csv')"
   ]
  },
  {
   "cell_type": "code",
   "execution_count": 10,
   "id": "90ed50af",
   "metadata": {},
   "outputs": [
    {
     "data": {
      "text/html": [
       "<div>\n",
       "<style scoped>\n",
       "    .dataframe tbody tr th:only-of-type {\n",
       "        vertical-align: middle;\n",
       "    }\n",
       "\n",
       "    .dataframe tbody tr th {\n",
       "        vertical-align: top;\n",
       "    }\n",
       "\n",
       "    .dataframe thead th {\n",
       "        text-align: right;\n",
       "    }\n",
       "</style>\n",
       "<table border=\"1\" class=\"dataframe\">\n",
       "  <thead>\n",
       "    <tr style=\"text-align: right;\">\n",
       "      <th></th>\n",
       "      <th>prix_de_livraison</th>\n",
       "      <th>weight</th>\n",
       "      <th>lenght</th>\n",
       "      <th>height</th>\n",
       "      <th>width</th>\n",
       "      <th>distance</th>\n",
       "      <th>days_to_delivery</th>\n",
       "      <th>nb_product</th>\n",
       "      <th>product_price</th>\n",
       "    </tr>\n",
       "  </thead>\n",
       "  <tbody>\n",
       "    <tr>\n",
       "      <th>count</th>\n",
       "      <td>109642.000000</td>\n",
       "      <td>109642.000000</td>\n",
       "      <td>109642.000000</td>\n",
       "      <td>109642.000000</td>\n",
       "      <td>109642.000000</td>\n",
       "      <td>109642.000000</td>\n",
       "      <td>109642.000000</td>\n",
       "      <td>109642.000000</td>\n",
       "      <td>109642.000000</td>\n",
       "    </tr>\n",
       "    <tr>\n",
       "      <th>mean</th>\n",
       "      <td>19.941298</td>\n",
       "      <td>2087.997911</td>\n",
       "      <td>30.134246</td>\n",
       "      <td>16.575646</td>\n",
       "      <td>22.975894</td>\n",
       "      <td>595.343458</td>\n",
       "      <td>11.999197</td>\n",
       "      <td>1.198482</td>\n",
       "      <td>119.999263</td>\n",
       "    </tr>\n",
       "    <tr>\n",
       "      <th>std</th>\n",
       "      <td>15.711804</td>\n",
       "      <td>3736.537873</td>\n",
       "      <td>16.114042</td>\n",
       "      <td>13.419416</td>\n",
       "      <td>11.661038</td>\n",
       "      <td>588.416264</td>\n",
       "      <td>9.450331</td>\n",
       "      <td>0.707701</td>\n",
       "      <td>182.415633</td>\n",
       "    </tr>\n",
       "    <tr>\n",
       "      <th>min</th>\n",
       "      <td>0.000000</td>\n",
       "      <td>0.000000</td>\n",
       "      <td>7.000000</td>\n",
       "      <td>2.000000</td>\n",
       "      <td>6.000000</td>\n",
       "      <td>0.000000</td>\n",
       "      <td>0.000000</td>\n",
       "      <td>1.000000</td>\n",
       "      <td>0.850000</td>\n",
       "    </tr>\n",
       "    <tr>\n",
       "      <th>25%</th>\n",
       "      <td>13.070000</td>\n",
       "      <td>300.000000</td>\n",
       "      <td>18.000000</td>\n",
       "      <td>8.000000</td>\n",
       "      <td>15.000000</td>\n",
       "      <td>184.031356</td>\n",
       "      <td>6.000000</td>\n",
       "      <td>1.000000</td>\n",
       "      <td>39.900000</td>\n",
       "    </tr>\n",
       "    <tr>\n",
       "      <th>50%</th>\n",
       "      <td>16.250000</td>\n",
       "      <td>700.000000</td>\n",
       "      <td>25.000000</td>\n",
       "      <td>13.000000</td>\n",
       "      <td>20.000000</td>\n",
       "      <td>431.603807</td>\n",
       "      <td>10.000000</td>\n",
       "      <td>1.000000</td>\n",
       "      <td>74.900000</td>\n",
       "    </tr>\n",
       "    <tr>\n",
       "      <th>75%</th>\n",
       "      <td>21.150000</td>\n",
       "      <td>1800.000000</td>\n",
       "      <td>38.000000</td>\n",
       "      <td>20.000000</td>\n",
       "      <td>30.000000</td>\n",
       "      <td>790.195715</td>\n",
       "      <td>15.000000</td>\n",
       "      <td>1.000000</td>\n",
       "      <td>134.550000</td>\n",
       "    </tr>\n",
       "    <tr>\n",
       "      <th>max</th>\n",
       "      <td>409.680000</td>\n",
       "      <td>40425.000000</td>\n",
       "      <td>105.000000</td>\n",
       "      <td>105.000000</td>\n",
       "      <td>118.000000</td>\n",
       "      <td>8711.002674</td>\n",
       "      <td>209.000000</td>\n",
       "      <td>21.000000</td>\n",
       "      <td>6735.000000</td>\n",
       "    </tr>\n",
       "  </tbody>\n",
       "</table>\n",
       "</div>"
      ],
      "text/plain": [
       "       prix_de_livraison         weight         lenght         height  \\\n",
       "count      109642.000000  109642.000000  109642.000000  109642.000000   \n",
       "mean           19.941298    2087.997911      30.134246      16.575646   \n",
       "std            15.711804    3736.537873      16.114042      13.419416   \n",
       "min             0.000000       0.000000       7.000000       2.000000   \n",
       "25%            13.070000     300.000000      18.000000       8.000000   \n",
       "50%            16.250000     700.000000      25.000000      13.000000   \n",
       "75%            21.150000    1800.000000      38.000000      20.000000   \n",
       "max           409.680000   40425.000000     105.000000     105.000000   \n",
       "\n",
       "               width       distance  days_to_delivery     nb_product  \\\n",
       "count  109642.000000  109642.000000     109642.000000  109642.000000   \n",
       "mean       22.975894     595.343458         11.999197       1.198482   \n",
       "std        11.661038     588.416264          9.450331       0.707701   \n",
       "min         6.000000       0.000000          0.000000       1.000000   \n",
       "25%        15.000000     184.031356          6.000000       1.000000   \n",
       "50%        20.000000     431.603807         10.000000       1.000000   \n",
       "75%        30.000000     790.195715         15.000000       1.000000   \n",
       "max       118.000000    8711.002674        209.000000      21.000000   \n",
       "\n",
       "       product_price  \n",
       "count  109642.000000  \n",
       "mean      119.999263  \n",
       "std       182.415633  \n",
       "min         0.850000  \n",
       "25%        39.900000  \n",
       "50%        74.900000  \n",
       "75%       134.550000  \n",
       "max      6735.000000  "
      ]
     },
     "execution_count": 10,
     "metadata": {},
     "output_type": "execute_result"
    }
   ],
   "source": [
    "df_outliers.describe()"
   ]
  },
  {
   "cell_type": "markdown",
   "id": "fc8d1eb6",
   "metadata": {},
   "source": [
    "## Calcul des outliers "
   ]
  },
  {
   "cell_type": "code",
   "execution_count": 11,
   "id": "09c4e054",
   "metadata": {},
   "outputs": [
    {
     "name": "stdout",
     "output_type": "stream",
     "text": [
      "510\n"
     ]
    }
   ],
   "source": [
    "#On calcule Q1\n",
    "\n",
    "q1_prix =df_outliers[\"prix_de_livraison\"].quantile(0.25)\n",
    "\n",
    "#On calcule Q3\n",
    "\n",
    "q3_prix =df_outliers[\"prix_de_livraison\"].quantile(0.75)\n",
    "\n",
    "#On calcule l'écart interquartile (IQR)\n",
    "\n",
    "IQR_prix=q3_prix-q1_prix\n",
    "\n",
    "#On calcule la borne inférieure à l'aide du Q1 et de l'écart interquartile\n",
    "\n",
    "borne_inf_prix = q1_prix-1.5*IQR_prix\n",
    "\n",
    "#On calcule la borne supérieure à l'aide du Q3 et de l'écart interquartile\n",
    "\n",
    "borne_sup_prix = q3_prix +1.5*IQR_prix\n",
    "\n",
    "#On regarde les valeurs à l'extérieur de la borne inférieure et supérieure\n",
    "\n",
    "df_outliers_prix = df_outliers[df_outliers[\"prix_de_livraison\"]>borne_sup_prix]\n",
    "df_outliers_prix = df_outliers[df_outliers[\"prix_de_livraison\"]<borne_inf_prix]\n",
    "\n",
    "df_outliers_prix\n",
    "print(len(df_outliers_prix))"
   ]
  },
  {
   "cell_type": "code",
   "execution_count": 12,
   "id": "aec1269e",
   "metadata": {},
   "outputs": [
    {
     "data": {
      "text/html": [
       "<div>\n",
       "<style scoped>\n",
       "    .dataframe tbody tr th:only-of-type {\n",
       "        vertical-align: middle;\n",
       "    }\n",
       "\n",
       "    .dataframe tbody tr th {\n",
       "        vertical-align: top;\n",
       "    }\n",
       "\n",
       "    .dataframe thead th {\n",
       "        text-align: right;\n",
       "    }\n",
       "</style>\n",
       "<table border=\"1\" class=\"dataframe\">\n",
       "  <thead>\n",
       "    <tr style=\"text-align: right;\">\n",
       "      <th></th>\n",
       "      <th>prix_de_livraison</th>\n",
       "      <th>weight</th>\n",
       "      <th>lenght</th>\n",
       "      <th>height</th>\n",
       "      <th>width</th>\n",
       "      <th>distance</th>\n",
       "      <th>days_to_delivery</th>\n",
       "      <th>nb_product</th>\n",
       "      <th>product_price</th>\n",
       "    </tr>\n",
       "  </thead>\n",
       "  <tbody>\n",
       "    <tr>\n",
       "      <th>count</th>\n",
       "      <td>510.000000</td>\n",
       "      <td>510.000000</td>\n",
       "      <td>510.000000</td>\n",
       "      <td>510.000000</td>\n",
       "      <td>510.000000</td>\n",
       "      <td>510.000000</td>\n",
       "      <td>510.000000</td>\n",
       "      <td>510.000000</td>\n",
       "      <td>510.000000</td>\n",
       "    </tr>\n",
       "    <tr>\n",
       "      <th>mean</th>\n",
       "      <td>0.062196</td>\n",
       "      <td>1934.447059</td>\n",
       "      <td>28.164706</td>\n",
       "      <td>14.345098</td>\n",
       "      <td>21.576471</td>\n",
       "      <td>652.207142</td>\n",
       "      <td>11.921569</td>\n",
       "      <td>1.507843</td>\n",
       "      <td>96.440843</td>\n",
       "    </tr>\n",
       "    <tr>\n",
       "      <th>std</th>\n",
       "      <td>0.169195</td>\n",
       "      <td>3442.235748</td>\n",
       "      <td>14.499249</td>\n",
       "      <td>8.678640</td>\n",
       "      <td>9.978417</td>\n",
       "      <td>521.233568</td>\n",
       "      <td>6.235846</td>\n",
       "      <td>1.190556</td>\n",
       "      <td>62.615923</td>\n",
       "    </tr>\n",
       "    <tr>\n",
       "      <th>min</th>\n",
       "      <td>0.000000</td>\n",
       "      <td>50.000000</td>\n",
       "      <td>15.000000</td>\n",
       "      <td>2.000000</td>\n",
       "      <td>11.000000</td>\n",
       "      <td>10.096315</td>\n",
       "      <td>1.000000</td>\n",
       "      <td>1.000000</td>\n",
       "      <td>7.000000</td>\n",
       "    </tr>\n",
       "    <tr>\n",
       "      <th>25%</th>\n",
       "      <td>0.000000</td>\n",
       "      <td>584.000000</td>\n",
       "      <td>16.000000</td>\n",
       "      <td>10.000000</td>\n",
       "      <td>13.000000</td>\n",
       "      <td>318.607769</td>\n",
       "      <td>8.000000</td>\n",
       "      <td>1.000000</td>\n",
       "      <td>69.900000</td>\n",
       "    </tr>\n",
       "    <tr>\n",
       "      <th>50%</th>\n",
       "      <td>0.000000</td>\n",
       "      <td>584.000000</td>\n",
       "      <td>20.000000</td>\n",
       "      <td>11.000000</td>\n",
       "      <td>16.000000</td>\n",
       "      <td>500.886212</td>\n",
       "      <td>11.000000</td>\n",
       "      <td>1.000000</td>\n",
       "      <td>99.900000</td>\n",
       "    </tr>\n",
       "    <tr>\n",
       "      <th>75%</th>\n",
       "      <td>0.010000</td>\n",
       "      <td>2600.000000</td>\n",
       "      <td>37.750000</td>\n",
       "      <td>13.000000</td>\n",
       "      <td>30.000000</td>\n",
       "      <td>831.595090</td>\n",
       "      <td>15.000000</td>\n",
       "      <td>2.000000</td>\n",
       "      <td>109.675000</td>\n",
       "    </tr>\n",
       "    <tr>\n",
       "      <th>max</th>\n",
       "      <td>0.920000</td>\n",
       "      <td>29700.000000</td>\n",
       "      <td>105.000000</td>\n",
       "      <td>78.000000</td>\n",
       "      <td>82.000000</td>\n",
       "      <td>2378.850632</td>\n",
       "      <td>48.000000</td>\n",
       "      <td>10.000000</td>\n",
       "      <td>712.900000</td>\n",
       "    </tr>\n",
       "  </tbody>\n",
       "</table>\n",
       "</div>"
      ],
      "text/plain": [
       "       prix_de_livraison        weight      lenght      height       width  \\\n",
       "count         510.000000    510.000000  510.000000  510.000000  510.000000   \n",
       "mean            0.062196   1934.447059   28.164706   14.345098   21.576471   \n",
       "std             0.169195   3442.235748   14.499249    8.678640    9.978417   \n",
       "min             0.000000     50.000000   15.000000    2.000000   11.000000   \n",
       "25%             0.000000    584.000000   16.000000   10.000000   13.000000   \n",
       "50%             0.000000    584.000000   20.000000   11.000000   16.000000   \n",
       "75%             0.010000   2600.000000   37.750000   13.000000   30.000000   \n",
       "max             0.920000  29700.000000  105.000000   78.000000   82.000000   \n",
       "\n",
       "          distance  days_to_delivery  nb_product  product_price  \n",
       "count   510.000000        510.000000  510.000000     510.000000  \n",
       "mean    652.207142         11.921569    1.507843      96.440843  \n",
       "std     521.233568          6.235846    1.190556      62.615923  \n",
       "min      10.096315          1.000000    1.000000       7.000000  \n",
       "25%     318.607769          8.000000    1.000000      69.900000  \n",
       "50%     500.886212         11.000000    1.000000      99.900000  \n",
       "75%     831.595090         15.000000    2.000000     109.675000  \n",
       "max    2378.850632         48.000000   10.000000     712.900000  "
      ]
     },
     "execution_count": 12,
     "metadata": {},
     "output_type": "execute_result"
    }
   ],
   "source": [
    "df_outliers_prix.describe()"
   ]
  },
  {
   "cell_type": "code",
   "execution_count": 13,
   "id": "656e2f12",
   "metadata": {},
   "outputs": [
    {
     "name": "stdout",
     "output_type": "stream",
     "text": [
      "0\n"
     ]
    }
   ],
   "source": [
    "#On calcule Q1\n",
    "\n",
    "q1_days=df_outliers[\"days_to_delivery\"].quantile(0.25)\n",
    "\n",
    "#On calcule Q3\n",
    "\n",
    "q3_days=df_outliers[\"days_to_delivery\"].quantile(0.75)\n",
    "\n",
    "#On calcule l'écart interquartile (IQR)\n",
    "\n",
    "IQR_days=q3_days-q1_days\n",
    "\n",
    "#On calcule la borne inférieure à l'aide du Q1 et de l'écart interquartile\n",
    "\n",
    "borne_inf_days = q1_days-1.5*IQR_days\n",
    "\n",
    "#On calcule la borne supérieure à l'aide du Q3 et de l'écart interquartile\n",
    "\n",
    "borne_sup_days = q3_days +1.5*IQR_days\n",
    "\n",
    "#On regarde les valeurs à l'extérieur de la borne inférieure et supérieure\n",
    "\n",
    "df_outliers_days = df_outliers[df_outliers[\"days_to_delivery\"]>borne_sup_days]\n",
    "df_outliers_days = df_outliers[df_outliers[\"days_to_delivery\"]<borne_inf_days]\n",
    "\n",
    "print(len(df_outliers_days))"
   ]
  },
  {
   "cell_type": "markdown",
   "id": "c10a64f8",
   "metadata": {},
   "source": [
    "La cible prix de livraison continent 510 outliers et la cible délai de livraison contient 0 outliers."
   ]
  },
  {
   "cell_type": "markdown",
   "id": "eb7ccc8d",
   "metadata": {},
   "source": [
    "Pour traiter les outilers nous avons 3 solutions : DROP(les supprimer tous), CAP(supprimer), REPLACE (les remplacer par d'autres valeurs. Les outliers ne sont pas trop nombreux par rapport au nombre total de lignes, je vais simplement les supprimer."
   ]
  },
  {
   "cell_type": "markdown",
   "id": "76c21679",
   "metadata": {},
   "source": [
    "# Drop outliers"
   ]
  },
  {
   "cell_type": "code",
   "execution_count": 14,
   "id": "80759c86",
   "metadata": {},
   "outputs": [],
   "source": [
    "#On supprime les valeurs aberrantes\n",
    "#On calcule Q1\n",
    "\n",
    "q1=df_outliers[\"prix_de_livraison\"].quantile(0.25)\n",
    "\n",
    "#On calcule Q3\n",
    "\n",
    "q3=df_outliers[\"prix_de_livraison\"].quantile(0.75)\n",
    "\n",
    "#On calcule l'écart interquartile (IQR)\n",
    "\n",
    "IQR=q3-q1\n",
    "\n",
    "#On calcule la borne inférieure à l'aide du Q1 et de l'écart interquartile\n",
    "\n",
    "borne_inf = q1-1.5*IQR\n",
    "\n",
    "#On calcule la borne supérieure à l'aide du Q3 et de l'écart interquartile\n",
    "\n",
    "borne_sup = q3 +1.5*IQR\n",
    "\n",
    "#On garde les valeurs à l'intérieur de la borne inférieure et supérieure\n",
    "\n",
    "df_without_outliers_prix = df_outliers[df_outliers[\"prix_de_livraison\"]<borne_sup]\n",
    "df_without_outilers_prix = df_outliers[df_outliers[\"prix_de_livraison\"]>borne_inf]"
   ]
  },
  {
   "cell_type": "code",
   "execution_count": 15,
   "id": "da8481a2",
   "metadata": {},
   "outputs": [
    {
     "data": {
      "text/html": [
       "<div>\n",
       "<style scoped>\n",
       "    .dataframe tbody tr th:only-of-type {\n",
       "        vertical-align: middle;\n",
       "    }\n",
       "\n",
       "    .dataframe tbody tr th {\n",
       "        vertical-align: top;\n",
       "    }\n",
       "\n",
       "    .dataframe thead th {\n",
       "        text-align: right;\n",
       "    }\n",
       "</style>\n",
       "<table border=\"1\" class=\"dataframe\">\n",
       "  <thead>\n",
       "    <tr style=\"text-align: right;\">\n",
       "      <th></th>\n",
       "      <th>prix_de_livraison</th>\n",
       "      <th>weight</th>\n",
       "      <th>lenght</th>\n",
       "      <th>height</th>\n",
       "      <th>width</th>\n",
       "      <th>distance</th>\n",
       "      <th>days_to_delivery</th>\n",
       "      <th>nb_product</th>\n",
       "      <th>product_price</th>\n",
       "    </tr>\n",
       "  </thead>\n",
       "  <tbody>\n",
       "    <tr>\n",
       "      <th>0</th>\n",
       "      <td>7.39</td>\n",
       "      <td>225.0</td>\n",
       "      <td>16.0</td>\n",
       "      <td>10.0</td>\n",
       "      <td>14.0</td>\n",
       "      <td>141.206907</td>\n",
       "      <td>3.0</td>\n",
       "      <td>1</td>\n",
       "      <td>10.91</td>\n",
       "    </tr>\n",
       "    <tr>\n",
       "      <th>1</th>\n",
       "      <td>17.99</td>\n",
       "      <td>1000.0</td>\n",
       "      <td>30.0</td>\n",
       "      <td>18.0</td>\n",
       "      <td>20.0</td>\n",
       "      <td>361.255505</td>\n",
       "      <td>15.0</td>\n",
       "      <td>1</td>\n",
       "      <td>248.00</td>\n",
       "    </tr>\n",
       "    <tr>\n",
       "      <th>2</th>\n",
       "      <td>7.82</td>\n",
       "      <td>154.0</td>\n",
       "      <td>18.0</td>\n",
       "      <td>9.0</td>\n",
       "      <td>15.0</td>\n",
       "      <td>22.395881</td>\n",
       "      <td>2.0</td>\n",
       "      <td>1</td>\n",
       "      <td>79.80</td>\n",
       "    </tr>\n",
       "    <tr>\n",
       "      <th>3</th>\n",
       "      <td>9.54</td>\n",
       "      <td>371.0</td>\n",
       "      <td>26.0</td>\n",
       "      <td>4.0</td>\n",
       "      <td>26.0</td>\n",
       "      <td>74.618935</td>\n",
       "      <td>3.0</td>\n",
       "      <td>1</td>\n",
       "      <td>112.30</td>\n",
       "    </tr>\n",
       "    <tr>\n",
       "      <th>4</th>\n",
       "      <td>8.29</td>\n",
       "      <td>625.0</td>\n",
       "      <td>20.0</td>\n",
       "      <td>17.0</td>\n",
       "      <td>13.0</td>\n",
       "      <td>9.184295</td>\n",
       "      <td>2.0</td>\n",
       "      <td>1</td>\n",
       "      <td>37.90</td>\n",
       "    </tr>\n",
       "    <tr>\n",
       "      <th>...</th>\n",
       "      <td>...</td>\n",
       "      <td>...</td>\n",
       "      <td>...</td>\n",
       "      <td>...</td>\n",
       "      <td>...</td>\n",
       "      <td>...</td>\n",
       "      <td>...</td>\n",
       "      <td>...</td>\n",
       "      <td>...</td>\n",
       "    </tr>\n",
       "    <tr>\n",
       "      <th>109637</th>\n",
       "      <td>16.11</td>\n",
       "      <td>700.0</td>\n",
       "      <td>31.0</td>\n",
       "      <td>13.0</td>\n",
       "      <td>20.0</td>\n",
       "      <td>267.777831</td>\n",
       "      <td>12.0</td>\n",
       "      <td>2</td>\n",
       "      <td>29.90</td>\n",
       "    </tr>\n",
       "    <tr>\n",
       "      <th>109638</th>\n",
       "      <td>23.28</td>\n",
       "      <td>700.0</td>\n",
       "      <td>31.0</td>\n",
       "      <td>13.0</td>\n",
       "      <td>20.0</td>\n",
       "      <td>1027.480004</td>\n",
       "      <td>17.0</td>\n",
       "      <td>1</td>\n",
       "      <td>29.90</td>\n",
       "    </tr>\n",
       "    <tr>\n",
       "      <th>109639</th>\n",
       "      <td>23.28</td>\n",
       "      <td>700.0</td>\n",
       "      <td>31.0</td>\n",
       "      <td>13.0</td>\n",
       "      <td>20.0</td>\n",
       "      <td>1027.480004</td>\n",
       "      <td>17.0</td>\n",
       "      <td>2</td>\n",
       "      <td>29.90</td>\n",
       "    </tr>\n",
       "    <tr>\n",
       "      <th>109640</th>\n",
       "      <td>23.28</td>\n",
       "      <td>700.0</td>\n",
       "      <td>31.0</td>\n",
       "      <td>13.0</td>\n",
       "      <td>20.0</td>\n",
       "      <td>1027.480004</td>\n",
       "      <td>17.0</td>\n",
       "      <td>3</td>\n",
       "      <td>29.90</td>\n",
       "    </tr>\n",
       "    <tr>\n",
       "      <th>109641</th>\n",
       "      <td>27.05</td>\n",
       "      <td>2083.0</td>\n",
       "      <td>12.0</td>\n",
       "      <td>2.0</td>\n",
       "      <td>7.0</td>\n",
       "      <td>539.564746</td>\n",
       "      <td>5.0</td>\n",
       "      <td>1</td>\n",
       "      <td>107.50</td>\n",
       "    </tr>\n",
       "  </tbody>\n",
       "</table>\n",
       "<p>109132 rows × 9 columns</p>\n",
       "</div>"
      ],
      "text/plain": [
       "        prix_de_livraison  weight  lenght  height  width     distance  \\\n",
       "0                    7.39   225.0    16.0    10.0   14.0   141.206907   \n",
       "1                   17.99  1000.0    30.0    18.0   20.0   361.255505   \n",
       "2                    7.82   154.0    18.0     9.0   15.0    22.395881   \n",
       "3                    9.54   371.0    26.0     4.0   26.0    74.618935   \n",
       "4                    8.29   625.0    20.0    17.0   13.0     9.184295   \n",
       "...                   ...     ...     ...     ...    ...          ...   \n",
       "109637              16.11   700.0    31.0    13.0   20.0   267.777831   \n",
       "109638              23.28   700.0    31.0    13.0   20.0  1027.480004   \n",
       "109639              23.28   700.0    31.0    13.0   20.0  1027.480004   \n",
       "109640              23.28   700.0    31.0    13.0   20.0  1027.480004   \n",
       "109641              27.05  2083.0    12.0     2.0    7.0   539.564746   \n",
       "\n",
       "        days_to_delivery  nb_product  product_price  \n",
       "0                    3.0           1          10.91  \n",
       "1                   15.0           1         248.00  \n",
       "2                    2.0           1          79.80  \n",
       "3                    3.0           1         112.30  \n",
       "4                    2.0           1          37.90  \n",
       "...                  ...         ...            ...  \n",
       "109637              12.0           2          29.90  \n",
       "109638              17.0           1          29.90  \n",
       "109639              17.0           2          29.90  \n",
       "109640              17.0           3          29.90  \n",
       "109641               5.0           1         107.50  \n",
       "\n",
       "[109132 rows x 9 columns]"
      ]
     },
     "execution_count": 15,
     "metadata": {},
     "output_type": "execute_result"
    }
   ],
   "source": [
    "df_without_outilers_prix"
   ]
  },
  {
   "cell_type": "code",
   "execution_count": 16,
   "id": "86518627",
   "metadata": {},
   "outputs": [
    {
     "data": {
      "text/html": [
       "<div>\n",
       "<style scoped>\n",
       "    .dataframe tbody tr th:only-of-type {\n",
       "        vertical-align: middle;\n",
       "    }\n",
       "\n",
       "    .dataframe tbody tr th {\n",
       "        vertical-align: top;\n",
       "    }\n",
       "\n",
       "    .dataframe thead th {\n",
       "        text-align: right;\n",
       "    }\n",
       "</style>\n",
       "<table border=\"1\" class=\"dataframe\">\n",
       "  <thead>\n",
       "    <tr style=\"text-align: right;\">\n",
       "      <th></th>\n",
       "      <th>prix_de_livraison</th>\n",
       "      <th>weight</th>\n",
       "      <th>lenght</th>\n",
       "      <th>height</th>\n",
       "      <th>width</th>\n",
       "      <th>distance</th>\n",
       "      <th>days_to_delivery</th>\n",
       "      <th>nb_product</th>\n",
       "      <th>product_price</th>\n",
       "    </tr>\n",
       "  </thead>\n",
       "  <tbody>\n",
       "    <tr>\n",
       "      <th>count</th>\n",
       "      <td>109132.000000</td>\n",
       "      <td>109132.000000</td>\n",
       "      <td>109132.000000</td>\n",
       "      <td>109132.000000</td>\n",
       "      <td>109132.000000</td>\n",
       "      <td>109132.000000</td>\n",
       "      <td>109132.000000</td>\n",
       "      <td>109132.000000</td>\n",
       "      <td>109132.000000</td>\n",
       "    </tr>\n",
       "    <tr>\n",
       "      <th>mean</th>\n",
       "      <td>20.034197</td>\n",
       "      <td>2088.715491</td>\n",
       "      <td>30.143450</td>\n",
       "      <td>16.586070</td>\n",
       "      <td>22.982434</td>\n",
       "      <td>595.077721</td>\n",
       "      <td>11.999560</td>\n",
       "      <td>1.197037</td>\n",
       "      <td>120.109357</td>\n",
       "    </tr>\n",
       "    <tr>\n",
       "      <th>std</th>\n",
       "      <td>15.689452</td>\n",
       "      <td>3737.858549</td>\n",
       "      <td>16.120704</td>\n",
       "      <td>13.436802</td>\n",
       "      <td>11.667977</td>\n",
       "      <td>588.701451</td>\n",
       "      <td>9.462808</td>\n",
       "      <td>0.704358</td>\n",
       "      <td>182.784233</td>\n",
       "    </tr>\n",
       "    <tr>\n",
       "      <th>min</th>\n",
       "      <td>0.960000</td>\n",
       "      <td>0.000000</td>\n",
       "      <td>7.000000</td>\n",
       "      <td>2.000000</td>\n",
       "      <td>6.000000</td>\n",
       "      <td>0.000000</td>\n",
       "      <td>0.000000</td>\n",
       "      <td>1.000000</td>\n",
       "      <td>0.850000</td>\n",
       "    </tr>\n",
       "    <tr>\n",
       "      <th>25%</th>\n",
       "      <td>13.100000</td>\n",
       "      <td>300.000000</td>\n",
       "      <td>18.000000</td>\n",
       "      <td>8.000000</td>\n",
       "      <td>15.000000</td>\n",
       "      <td>182.383997</td>\n",
       "      <td>6.000000</td>\n",
       "      <td>1.000000</td>\n",
       "      <td>39.900000</td>\n",
       "    </tr>\n",
       "    <tr>\n",
       "      <th>50%</th>\n",
       "      <td>16.280000</td>\n",
       "      <td>700.000000</td>\n",
       "      <td>25.000000</td>\n",
       "      <td>13.000000</td>\n",
       "      <td>20.000000</td>\n",
       "      <td>431.005574</td>\n",
       "      <td>10.000000</td>\n",
       "      <td>1.000000</td>\n",
       "      <td>74.900000</td>\n",
       "    </tr>\n",
       "    <tr>\n",
       "      <th>75%</th>\n",
       "      <td>21.150000</td>\n",
       "      <td>1800.000000</td>\n",
       "      <td>38.000000</td>\n",
       "      <td>20.000000</td>\n",
       "      <td>30.000000</td>\n",
       "      <td>789.994070</td>\n",
       "      <td>15.000000</td>\n",
       "      <td>1.000000</td>\n",
       "      <td>134.900000</td>\n",
       "    </tr>\n",
       "    <tr>\n",
       "      <th>max</th>\n",
       "      <td>409.680000</td>\n",
       "      <td>40425.000000</td>\n",
       "      <td>105.000000</td>\n",
       "      <td>105.000000</td>\n",
       "      <td>118.000000</td>\n",
       "      <td>8711.002674</td>\n",
       "      <td>209.000000</td>\n",
       "      <td>21.000000</td>\n",
       "      <td>6735.000000</td>\n",
       "    </tr>\n",
       "  </tbody>\n",
       "</table>\n",
       "</div>"
      ],
      "text/plain": [
       "       prix_de_livraison         weight         lenght         height  \\\n",
       "count      109132.000000  109132.000000  109132.000000  109132.000000   \n",
       "mean           20.034197    2088.715491      30.143450      16.586070   \n",
       "std            15.689452    3737.858549      16.120704      13.436802   \n",
       "min             0.960000       0.000000       7.000000       2.000000   \n",
       "25%            13.100000     300.000000      18.000000       8.000000   \n",
       "50%            16.280000     700.000000      25.000000      13.000000   \n",
       "75%            21.150000    1800.000000      38.000000      20.000000   \n",
       "max           409.680000   40425.000000     105.000000     105.000000   \n",
       "\n",
       "               width       distance  days_to_delivery     nb_product  \\\n",
       "count  109132.000000  109132.000000     109132.000000  109132.000000   \n",
       "mean       22.982434     595.077721         11.999560       1.197037   \n",
       "std        11.667977     588.701451          9.462808       0.704358   \n",
       "min         6.000000       0.000000          0.000000       1.000000   \n",
       "25%        15.000000     182.383997          6.000000       1.000000   \n",
       "50%        20.000000     431.005574         10.000000       1.000000   \n",
       "75%        30.000000     789.994070         15.000000       1.000000   \n",
       "max       118.000000    8711.002674        209.000000      21.000000   \n",
       "\n",
       "       product_price  \n",
       "count  109132.000000  \n",
       "mean      120.109357  \n",
       "std       182.784233  \n",
       "min         0.850000  \n",
       "25%        39.900000  \n",
       "50%        74.900000  \n",
       "75%       134.900000  \n",
       "max      6735.000000  "
      ]
     },
     "execution_count": 16,
     "metadata": {},
     "output_type": "execute_result"
    }
   ],
   "source": [
    "df_without_outilers_prix.describe()"
   ]
  },
  {
   "cell_type": "code",
   "execution_count": 17,
   "id": "a2a6c9cb",
   "metadata": {},
   "outputs": [
    {
     "data": {
      "text/plain": [
       "<AxesSubplot:xlabel='prix_de_livraison'>"
      ]
     },
     "execution_count": 17,
     "metadata": {},
     "output_type": "execute_result"
    },
    {
     "data": {
      "image/png": "[encoded data removed]",
      "text/plain": [
       "<Figure size 640x480 with 1 Axes>"
      ]
     },
     "metadata": {},
     "output_type": "display_data"
    }
   ],
   "source": [
    "sns.boxplot(x =df_without_outilers_prix.prix_de_livraison)"
   ]
  },
  {
   "cell_type": "markdown",
   "id": "3d1b2671",
   "metadata": {},
   "source": [
    "On peut voir qu'il y a encore les valeurs hautes, les premiere outliers consernaient les valeurs bases (entre 0 et 0.92). Je vais refaire une recherche d'outliers pour voir si les valeirs hautes resortent."
   ]
  },
  {
   "cell_type": "code",
   "execution_count": 18,
   "id": "fcde260a",
   "metadata": {},
   "outputs": [
    {
     "name": "stdout",
     "output_type": "stream",
     "text": [
      "9\n"
     ]
    }
   ],
   "source": [
    "#On calcule Q1\n",
    "\n",
    "q1_prix2 =df_without_outilers_prix[\"prix_de_livraison\"].quantile(0.25)\n",
    "\n",
    "#On calcule Q3\n",
    "\n",
    "q3_prix2 =df_without_outilers_prix[\"prix_de_livraison\"].quantile(0.75)\n",
    "\n",
    "#On calcule l'écart interquartile (IQR)\n",
    "\n",
    "IQR_prix2 =q3_prix2-q1_prix2\n",
    "\n",
    "#On calcule la borne inférieure à l'aide du Q1 et de l'écart interquartile\n",
    "\n",
    "borne_inf_prix2 = q1_prix2-1.5*IQR_prix2\n",
    "\n",
    "#On calcule la borne supérieure à l'aide du Q3 et de l'écart interquartile\n",
    "\n",
    "borne_sup_prix2 = q3_prix2 +1.5*IQR_prix2\n",
    "\n",
    "#On regarde les valeurs à l'extérieur de la borne inférieure et supérieure\n",
    "\n",
    "df_outliers_prix2 = df_without_outilers_prix[df_without_outilers_prix[\"prix_de_livraison\"]>borne_sup_prix2]\n",
    "df_outliers_prix2 = df_without_outilers_prix[df_without_outilers_prix[\"prix_de_livraison\"]<borne_inf_prix2]\n",
    "\n",
    "df_outliers_prix2\n",
    "print(len(df_outliers_prix2))"
   ]
  },
  {
   "cell_type": "code",
   "execution_count": 19,
   "id": "134616d0",
   "metadata": {},
   "outputs": [
    {
     "data": {
      "text/html": [
       "<div>\n",
       "<style scoped>\n",
       "    .dataframe tbody tr th:only-of-type {\n",
       "        vertical-align: middle;\n",
       "    }\n",
       "\n",
       "    .dataframe tbody tr th {\n",
       "        vertical-align: top;\n",
       "    }\n",
       "\n",
       "    .dataframe thead th {\n",
       "        text-align: right;\n",
       "    }\n",
       "</style>\n",
       "<table border=\"1\" class=\"dataframe\">\n",
       "  <thead>\n",
       "    <tr style=\"text-align: right;\">\n",
       "      <th></th>\n",
       "      <th>prix_de_livraison</th>\n",
       "      <th>weight</th>\n",
       "      <th>lenght</th>\n",
       "      <th>height</th>\n",
       "      <th>width</th>\n",
       "      <th>distance</th>\n",
       "      <th>days_to_delivery</th>\n",
       "      <th>nb_product</th>\n",
       "      <th>product_price</th>\n",
       "    </tr>\n",
       "  </thead>\n",
       "  <tbody>\n",
       "    <tr>\n",
       "      <th>count</th>\n",
       "      <td>9.000000</td>\n",
       "      <td>9.000000</td>\n",
       "      <td>9.000000</td>\n",
       "      <td>9.000000</td>\n",
       "      <td>9.000000</td>\n",
       "      <td>9.000000</td>\n",
       "      <td>9.000000</td>\n",
       "      <td>9.000000</td>\n",
       "      <td>9.000000</td>\n",
       "    </tr>\n",
       "    <tr>\n",
       "      <th>mean</th>\n",
       "      <td>0.983333</td>\n",
       "      <td>211.333333</td>\n",
       "      <td>17.333333</td>\n",
       "      <td>8.555556</td>\n",
       "      <td>14.888889</td>\n",
       "      <td>206.012667</td>\n",
       "      <td>6.555556</td>\n",
       "      <td>2.777778</td>\n",
       "      <td>48.507778</td>\n",
       "    </tr>\n",
       "    <tr>\n",
       "      <th>std</th>\n",
       "      <td>0.017321</td>\n",
       "      <td>138.974818</td>\n",
       "      <td>1.118034</td>\n",
       "      <td>3.678013</td>\n",
       "      <td>2.420973</td>\n",
       "      <td>259.500321</td>\n",
       "      <td>5.410894</td>\n",
       "      <td>1.787301</td>\n",
       "      <td>38.360787</td>\n",
       "    </tr>\n",
       "    <tr>\n",
       "      <th>min</th>\n",
       "      <td>0.960000</td>\n",
       "      <td>50.000000</td>\n",
       "      <td>16.000000</td>\n",
       "      <td>4.000000</td>\n",
       "      <td>12.000000</td>\n",
       "      <td>10.785721</td>\n",
       "      <td>2.000000</td>\n",
       "      <td>1.000000</td>\n",
       "      <td>22.900000</td>\n",
       "    </tr>\n",
       "    <tr>\n",
       "      <th>25%</th>\n",
       "      <td>0.970000</td>\n",
       "      <td>107.000000</td>\n",
       "      <td>17.000000</td>\n",
       "      <td>5.000000</td>\n",
       "      <td>14.000000</td>\n",
       "      <td>35.836004</td>\n",
       "      <td>2.000000</td>\n",
       "      <td>2.000000</td>\n",
       "      <td>24.990000</td>\n",
       "    </tr>\n",
       "    <tr>\n",
       "      <th>50%</th>\n",
       "      <td>0.980000</td>\n",
       "      <td>150.000000</td>\n",
       "      <td>17.000000</td>\n",
       "      <td>9.000000</td>\n",
       "      <td>14.000000</td>\n",
       "      <td>36.157703</td>\n",
       "      <td>3.000000</td>\n",
       "      <td>2.000000</td>\n",
       "      <td>39.900000</td>\n",
       "    </tr>\n",
       "    <tr>\n",
       "      <th>75%</th>\n",
       "      <td>1.000000</td>\n",
       "      <td>383.000000</td>\n",
       "      <td>18.000000</td>\n",
       "      <td>11.000000</td>\n",
       "      <td>16.000000</td>\n",
       "      <td>281.345173</td>\n",
       "      <td>11.000000</td>\n",
       "      <td>4.000000</td>\n",
       "      <td>47.990000</td>\n",
       "    </tr>\n",
       "    <tr>\n",
       "      <th>max</th>\n",
       "      <td>1.010000</td>\n",
       "      <td>400.000000</td>\n",
       "      <td>19.000000</td>\n",
       "      <td>13.000000</td>\n",
       "      <td>20.000000</td>\n",
       "      <td>780.425994</td>\n",
       "      <td>15.000000</td>\n",
       "      <td>6.000000</td>\n",
       "      <td>146.990000</td>\n",
       "    </tr>\n",
       "  </tbody>\n",
       "</table>\n",
       "</div>"
      ],
      "text/plain": [
       "       prix_de_livraison      weight     lenght     height      width  \\\n",
       "count           9.000000    9.000000   9.000000   9.000000   9.000000   \n",
       "mean            0.983333  211.333333  17.333333   8.555556  14.888889   \n",
       "std             0.017321  138.974818   1.118034   3.678013   2.420973   \n",
       "min             0.960000   50.000000  16.000000   4.000000  12.000000   \n",
       "25%             0.970000  107.000000  17.000000   5.000000  14.000000   \n",
       "50%             0.980000  150.000000  17.000000   9.000000  14.000000   \n",
       "75%             1.000000  383.000000  18.000000  11.000000  16.000000   \n",
       "max             1.010000  400.000000  19.000000  13.000000  20.000000   \n",
       "\n",
       "         distance  days_to_delivery  nb_product  product_price  \n",
       "count    9.000000          9.000000    9.000000       9.000000  \n",
       "mean   206.012667          6.555556    2.777778      48.507778  \n",
       "std    259.500321          5.410894    1.787301      38.360787  \n",
       "min     10.785721          2.000000    1.000000      22.900000  \n",
       "25%     35.836004          2.000000    2.000000      24.990000  \n",
       "50%     36.157703          3.000000    2.000000      39.900000  \n",
       "75%    281.345173         11.000000    4.000000      47.990000  \n",
       "max    780.425994         15.000000    6.000000     146.990000  "
      ]
     },
     "execution_count": 19,
     "metadata": {},
     "output_type": "execute_result"
    }
   ],
   "source": [
    "df_outliers_prix2.describe()"
   ]
  },
  {
   "cell_type": "markdown",
   "id": "7751c609",
   "metadata": {},
   "source": [
    "La seconde analyses des outliers sur la colonne prix de livraison ne permet d'identifier les valeurs hautes comme outliers je vais donc les laisser."
   ]
  },
  {
   "cell_type": "code",
   "execution_count": 20,
   "id": "febe28e2",
   "metadata": {},
   "outputs": [
    {
     "data": {
      "text/plain": [
       "<AxesSubplot:xlabel='weight'>"
      ]
     },
     "execution_count": 20,
     "metadata": {},
     "output_type": "execute_result"
    },
    {
     "data": {
      "image/png": "[encoded data removed]",
      "text/plain": [
       "<Figure size 640x480 with 1 Axes>"
      ]
     },
     "metadata": {},
     "output_type": "display_data"
    }
   ],
   "source": [
    "# Visualisation des valeurs de poids, nous allons tester les outliers pour le poids. \n",
    "sns.boxplot(x =df_without_outilers_prix.weight)"
   ]
  },
  {
   "cell_type": "code",
   "execution_count": 21,
   "id": "e7eb1a15",
   "metadata": {},
   "outputs": [
    {
     "name": "stdout",
     "output_type": "stream",
     "text": [
      "0\n"
     ]
    }
   ],
   "source": [
    "#On calcule Q1\n",
    "\n",
    "q1_poids =df_without_outilers_prix[\"weight\"].quantile(0.25)\n",
    "\n",
    "#On calcule Q3\n",
    "\n",
    "q3_poids =df_without_outilers_prix[\"weight\"].quantile(0.75)\n",
    "\n",
    "#On calcule l'écart interquartile (IQR)\n",
    "\n",
    "IQR_poids =q3_poids-q1_poids\n",
    "\n",
    "#On calcule la borne inférieure à l'aide du Q1 et de l'écart interquartile\n",
    "\n",
    "borne_inf_poids = q1_poids-1.5*IQR_poids\n",
    "\n",
    "#On calcule la borne supérieure à l'aide du Q3 et de l'écart interquartile\n",
    "\n",
    "borne_sup_poids = q3_poids +1.5*IQR_poids\n",
    "\n",
    "#On regarde les valeurs à l'extérieur de la borne inférieure et supérieure\n",
    "\n",
    "df_outliers_poids = df_without_outilers_prix[df_without_outilers_prix[\"weight\"]>borne_sup_poids]\n",
    "df_outliers_poids = df_without_outilers_prix[df_without_outilers_prix[\"weight\"]<borne_inf_poids]\n",
    "\n",
    "df_outliers_poids\n",
    "print(len(df_outliers_poids))"
   ]
  },
  {
   "cell_type": "markdown",
   "id": "4ace3237",
   "metadata": {},
   "source": [
    "Il n'y a pas d'outliers dans la colone weight, je vais le vérifier avec un autre code."
   ]
  },
  {
   "cell_type": "code",
   "execution_count": 27,
   "id": "14d7340c",
   "metadata": {},
   "outputs": [],
   "source": [
    "def outlier_treatment(datacolumn):\n",
    "    sorted(datacolumn)\n",
    "    Q1,Q3 = np.percentile(datacolumn , [25,75])\n",
    "    IQR = Q3 - Q1\n",
    "    lower_range = Q1 - (1.5 * IQR)\n",
    "    upper_range = Q3 + (1.5 * IQR)\n",
    "    return lower_range,upper_range"
   ]
  },
  {
   "cell_type": "code",
   "execution_count": 35,
   "id": "b0cd03fd",
   "metadata": {},
   "outputs": [],
   "source": [
    "lower_range ,upper_range = outlier_treatment(df_outliers.weight)"
   ]
  },
  {
   "cell_type": "code",
   "execution_count": 36,
   "id": "8b3440fe",
   "metadata": {},
   "outputs": [
    {
     "data": {
      "text/plain": [
       "-1950.0"
      ]
     },
     "execution_count": 36,
     "metadata": {},
     "output_type": "execute_result"
    }
   ],
   "source": [
    "lower_range"
   ]
  },
  {
   "cell_type": "code",
   "execution_count": 37,
   "id": "058904f9",
   "metadata": {},
   "outputs": [
    {
     "data": {
      "text/plain": [
       "4050.0"
      ]
     },
     "execution_count": 37,
     "metadata": {},
     "output_type": "execute_result"
    }
   ],
   "source": [
    "upper_range"
   ]
  },
  {
   "cell_type": "markdown",
   "id": "e84abc2c",
   "metadata": {},
   "source": [
    "Cette seconde méthode trouve 15322 outiliers, la premiere méthode n'est peut être pas bonne. "
   ]
  },
  {
   "cell_type": "markdown",
   "id": "1facc0c1",
   "metadata": {},
   "source": [
    "Nous allons tester d'enlever ces outliers même si il y en a beaucoup."
   ]
  },
  {
   "cell_type": "code",
   "execution_count": 43,
   "id": "14bc8aa8",
   "metadata": {},
   "outputs": [],
   "source": [
    "data_clean = df_outliers[df_outliers['weight'] < upper_range]"
   ]
  },
  {
   "cell_type": "code",
   "execution_count": 44,
   "id": "2331ef91",
   "metadata": {},
   "outputs": [
    {
     "data": {
      "text/html": [
       "<div>\n",
       "<style scoped>\n",
       "    .dataframe tbody tr th:only-of-type {\n",
       "        vertical-align: middle;\n",
       "    }\n",
       "\n",
       "    .dataframe tbody tr th {\n",
       "        vertical-align: top;\n",
       "    }\n",
       "\n",
       "    .dataframe thead th {\n",
       "        text-align: right;\n",
       "    }\n",
       "</style>\n",
       "<table border=\"1\" class=\"dataframe\">\n",
       "  <thead>\n",
       "    <tr style=\"text-align: right;\">\n",
       "      <th></th>\n",
       "      <th>prix_de_livraison</th>\n",
       "      <th>weight</th>\n",
       "      <th>lenght</th>\n",
       "      <th>height</th>\n",
       "      <th>width</th>\n",
       "      <th>distance</th>\n",
       "      <th>days_to_delivery</th>\n",
       "      <th>nb_product</th>\n",
       "      <th>product_price</th>\n",
       "    </tr>\n",
       "  </thead>\n",
       "  <tbody>\n",
       "    <tr>\n",
       "      <th>0</th>\n",
       "      <td>7.39</td>\n",
       "      <td>225.0</td>\n",
       "      <td>16.0</td>\n",
       "      <td>10.0</td>\n",
       "      <td>14.0</td>\n",
       "      <td>141.206907</td>\n",
       "      <td>3.0</td>\n",
       "      <td>1</td>\n",
       "      <td>10.91</td>\n",
       "    </tr>\n",
       "    <tr>\n",
       "      <th>1</th>\n",
       "      <td>17.99</td>\n",
       "      <td>1000.0</td>\n",
       "      <td>30.0</td>\n",
       "      <td>18.0</td>\n",
       "      <td>20.0</td>\n",
       "      <td>361.255505</td>\n",
       "      <td>15.0</td>\n",
       "      <td>1</td>\n",
       "      <td>248.00</td>\n",
       "    </tr>\n",
       "    <tr>\n",
       "      <th>2</th>\n",
       "      <td>7.82</td>\n",
       "      <td>154.0</td>\n",
       "      <td>18.0</td>\n",
       "      <td>9.0</td>\n",
       "      <td>15.0</td>\n",
       "      <td>22.395881</td>\n",
       "      <td>2.0</td>\n",
       "      <td>1</td>\n",
       "      <td>79.80</td>\n",
       "    </tr>\n",
       "    <tr>\n",
       "      <th>3</th>\n",
       "      <td>9.54</td>\n",
       "      <td>371.0</td>\n",
       "      <td>26.0</td>\n",
       "      <td>4.0</td>\n",
       "      <td>26.0</td>\n",
       "      <td>74.618935</td>\n",
       "      <td>3.0</td>\n",
       "      <td>1</td>\n",
       "      <td>112.30</td>\n",
       "    </tr>\n",
       "    <tr>\n",
       "      <th>4</th>\n",
       "      <td>8.29</td>\n",
       "      <td>625.0</td>\n",
       "      <td>20.0</td>\n",
       "      <td>17.0</td>\n",
       "      <td>13.0</td>\n",
       "      <td>9.184295</td>\n",
       "      <td>2.0</td>\n",
       "      <td>1</td>\n",
       "      <td>37.90</td>\n",
       "    </tr>\n",
       "    <tr>\n",
       "      <th>...</th>\n",
       "      <td>...</td>\n",
       "      <td>...</td>\n",
       "      <td>...</td>\n",
       "      <td>...</td>\n",
       "      <td>...</td>\n",
       "      <td>...</td>\n",
       "      <td>...</td>\n",
       "      <td>...</td>\n",
       "      <td>...</td>\n",
       "    </tr>\n",
       "    <tr>\n",
       "      <th>109637</th>\n",
       "      <td>16.11</td>\n",
       "      <td>700.0</td>\n",
       "      <td>31.0</td>\n",
       "      <td>13.0</td>\n",
       "      <td>20.0</td>\n",
       "      <td>267.777831</td>\n",
       "      <td>12.0</td>\n",
       "      <td>2</td>\n",
       "      <td>29.90</td>\n",
       "    </tr>\n",
       "    <tr>\n",
       "      <th>109638</th>\n",
       "      <td>23.28</td>\n",
       "      <td>700.0</td>\n",
       "      <td>31.0</td>\n",
       "      <td>13.0</td>\n",
       "      <td>20.0</td>\n",
       "      <td>1027.480004</td>\n",
       "      <td>17.0</td>\n",
       "      <td>1</td>\n",
       "      <td>29.90</td>\n",
       "    </tr>\n",
       "    <tr>\n",
       "      <th>109639</th>\n",
       "      <td>23.28</td>\n",
       "      <td>700.0</td>\n",
       "      <td>31.0</td>\n",
       "      <td>13.0</td>\n",
       "      <td>20.0</td>\n",
       "      <td>1027.480004</td>\n",
       "      <td>17.0</td>\n",
       "      <td>2</td>\n",
       "      <td>29.90</td>\n",
       "    </tr>\n",
       "    <tr>\n",
       "      <th>109640</th>\n",
       "      <td>23.28</td>\n",
       "      <td>700.0</td>\n",
       "      <td>31.0</td>\n",
       "      <td>13.0</td>\n",
       "      <td>20.0</td>\n",
       "      <td>1027.480004</td>\n",
       "      <td>17.0</td>\n",
       "      <td>3</td>\n",
       "      <td>29.90</td>\n",
       "    </tr>\n",
       "    <tr>\n",
       "      <th>109641</th>\n",
       "      <td>27.05</td>\n",
       "      <td>2083.0</td>\n",
       "      <td>12.0</td>\n",
       "      <td>2.0</td>\n",
       "      <td>7.0</td>\n",
       "      <td>539.564746</td>\n",
       "      <td>5.0</td>\n",
       "      <td>1</td>\n",
       "      <td>107.50</td>\n",
       "    </tr>\n",
       "  </tbody>\n",
       "</table>\n",
       "<p>94193 rows × 9 columns</p>\n",
       "</div>"
      ],
      "text/plain": [
       "        prix_de_livraison  weight  lenght  height  width     distance  \\\n",
       "0                    7.39   225.0    16.0    10.0   14.0   141.206907   \n",
       "1                   17.99  1000.0    30.0    18.0   20.0   361.255505   \n",
       "2                    7.82   154.0    18.0     9.0   15.0    22.395881   \n",
       "3                    9.54   371.0    26.0     4.0   26.0    74.618935   \n",
       "4                    8.29   625.0    20.0    17.0   13.0     9.184295   \n",
       "...                   ...     ...     ...     ...    ...          ...   \n",
       "109637              16.11   700.0    31.0    13.0   20.0   267.777831   \n",
       "109638              23.28   700.0    31.0    13.0   20.0  1027.480004   \n",
       "109639              23.28   700.0    31.0    13.0   20.0  1027.480004   \n",
       "109640              23.28   700.0    31.0    13.0   20.0  1027.480004   \n",
       "109641              27.05  2083.0    12.0     2.0    7.0   539.564746   \n",
       "\n",
       "        days_to_delivery  nb_product  product_price  \n",
       "0                    3.0           1          10.91  \n",
       "1                   15.0           1         248.00  \n",
       "2                    2.0           1          79.80  \n",
       "3                    3.0           1         112.30  \n",
       "4                    2.0           1          37.90  \n",
       "...                  ...         ...            ...  \n",
       "109637              12.0           2          29.90  \n",
       "109638              17.0           1          29.90  \n",
       "109639              17.0           2          29.90  \n",
       "109640              17.0           3          29.90  \n",
       "109641               5.0           1         107.50  \n",
       "\n",
       "[94193 rows x 9 columns]"
      ]
     },
     "execution_count": 44,
     "metadata": {},
     "output_type": "execute_result"
    }
   ],
   "source": [
    "data_clean"
   ]
  },
  {
   "cell_type": "code",
   "execution_count": 45,
   "id": "7809980a",
   "metadata": {},
   "outputs": [
    {
     "name": "stdout",
     "output_type": "stream",
     "text": [
      "<class 'pandas.core.frame.DataFrame'>\n",
      "Int64Index: 94193 entries, 0 to 109641\n",
      "Data columns (total 9 columns):\n",
      " #   Column             Non-Null Count  Dtype  \n",
      "---  ------             --------------  -----  \n",
      " 0   prix_de_livraison  94193 non-null  float64\n",
      " 1   weight             94193 non-null  float64\n",
      " 2   lenght             94193 non-null  float64\n",
      " 3   height             94193 non-null  float64\n",
      " 4   width              94193 non-null  float64\n",
      " 5   distance           94193 non-null  float64\n",
      " 6   days_to_delivery   94193 non-null  float64\n",
      " 7   nb_product         94193 non-null  int64  \n",
      " 8   product_price      94193 non-null  float64\n",
      "dtypes: float64(8), int64(1)\n",
      "memory usage: 7.2 MB\n"
     ]
    }
   ],
   "source": [
    "data_clean.info()"
   ]
  },
  {
   "cell_type": "code",
   "execution_count": 46,
   "id": "f3de8410",
   "metadata": {},
   "outputs": [
    {
     "data": {
      "text/html": [
       "<div>\n",
       "<style scoped>\n",
       "    .dataframe tbody tr th:only-of-type {\n",
       "        vertical-align: middle;\n",
       "    }\n",
       "\n",
       "    .dataframe tbody tr th {\n",
       "        vertical-align: top;\n",
       "    }\n",
       "\n",
       "    .dataframe thead th {\n",
       "        text-align: right;\n",
       "    }\n",
       "</style>\n",
       "<table border=\"1\" class=\"dataframe\">\n",
       "  <thead>\n",
       "    <tr style=\"text-align: right;\">\n",
       "      <th></th>\n",
       "      <th>prix_de_livraison</th>\n",
       "      <th>weight</th>\n",
       "      <th>lenght</th>\n",
       "      <th>height</th>\n",
       "      <th>width</th>\n",
       "      <th>distance</th>\n",
       "      <th>days_to_delivery</th>\n",
       "      <th>nb_product</th>\n",
       "      <th>product_price</th>\n",
       "    </tr>\n",
       "  </thead>\n",
       "  <tbody>\n",
       "    <tr>\n",
       "      <th>count</th>\n",
       "      <td>94193.000000</td>\n",
       "      <td>94193.000000</td>\n",
       "      <td>94193.000000</td>\n",
       "      <td>94193.000000</td>\n",
       "      <td>94193.000000</td>\n",
       "      <td>94193.000000</td>\n",
       "      <td>94193.000000</td>\n",
       "      <td>94193.000000</td>\n",
       "      <td>94193.000000</td>\n",
       "    </tr>\n",
       "    <tr>\n",
       "      <th>mean</th>\n",
       "      <td>17.029292</td>\n",
       "      <td>848.959710</td>\n",
       "      <td>27.554978</td>\n",
       "      <td>13.885958</td>\n",
       "      <td>20.868854</td>\n",
       "      <td>597.466208</td>\n",
       "      <td>11.724300</td>\n",
       "      <td>1.201788</td>\n",
       "      <td>101.334271</td>\n",
       "    </tr>\n",
       "    <tr>\n",
       "      <th>std</th>\n",
       "      <td>8.683236</td>\n",
       "      <td>815.147393</td>\n",
       "      <td>13.837981</td>\n",
       "      <td>9.490179</td>\n",
       "      <td>9.460304</td>\n",
       "      <td>590.527739</td>\n",
       "      <td>9.240629</td>\n",
       "      <td>0.717389</td>\n",
       "      <td>144.921206</td>\n",
       "    </tr>\n",
       "    <tr>\n",
       "      <th>min</th>\n",
       "      <td>0.000000</td>\n",
       "      <td>0.000000</td>\n",
       "      <td>7.000000</td>\n",
       "      <td>2.000000</td>\n",
       "      <td>6.000000</td>\n",
       "      <td>0.000000</td>\n",
       "      <td>0.000000</td>\n",
       "      <td>1.000000</td>\n",
       "      <td>0.850000</td>\n",
       "    </tr>\n",
       "    <tr>\n",
       "      <th>25%</th>\n",
       "      <td>12.690000</td>\n",
       "      <td>250.000000</td>\n",
       "      <td>18.000000</td>\n",
       "      <td>8.000000</td>\n",
       "      <td>14.000000</td>\n",
       "      <td>181.149171</td>\n",
       "      <td>6.000000</td>\n",
       "      <td>1.000000</td>\n",
       "      <td>35.900000</td>\n",
       "    </tr>\n",
       "    <tr>\n",
       "      <th>50%</th>\n",
       "      <td>15.540000</td>\n",
       "      <td>533.000000</td>\n",
       "      <td>22.000000</td>\n",
       "      <td>12.000000</td>\n",
       "      <td>18.000000</td>\n",
       "      <td>435.537524</td>\n",
       "      <td>10.000000</td>\n",
       "      <td>1.000000</td>\n",
       "      <td>64.900000</td>\n",
       "    </tr>\n",
       "    <tr>\n",
       "      <th>75%</th>\n",
       "      <td>18.940000</td>\n",
       "      <td>1200.000000</td>\n",
       "      <td>33.000000</td>\n",
       "      <td>18.000000</td>\n",
       "      <td>26.000000</td>\n",
       "      <td>795.134516</td>\n",
       "      <td>15.000000</td>\n",
       "      <td>1.000000</td>\n",
       "      <td>117.000000</td>\n",
       "    </tr>\n",
       "    <tr>\n",
       "      <th>max</th>\n",
       "      <td>209.630000</td>\n",
       "      <td>4037.000000</td>\n",
       "      <td>105.000000</td>\n",
       "      <td>105.000000</td>\n",
       "      <td>118.000000</td>\n",
       "      <td>8002.649447</td>\n",
       "      <td>209.000000</td>\n",
       "      <td>21.000000</td>\n",
       "      <td>4590.000000</td>\n",
       "    </tr>\n",
       "  </tbody>\n",
       "</table>\n",
       "</div>"
      ],
      "text/plain": [
       "       prix_de_livraison        weight        lenght        height  \\\n",
       "count       94193.000000  94193.000000  94193.000000  94193.000000   \n",
       "mean           17.029292    848.959710     27.554978     13.885958   \n",
       "std             8.683236    815.147393     13.837981      9.490179   \n",
       "min             0.000000      0.000000      7.000000      2.000000   \n",
       "25%            12.690000    250.000000     18.000000      8.000000   \n",
       "50%            15.540000    533.000000     22.000000     12.000000   \n",
       "75%            18.940000   1200.000000     33.000000     18.000000   \n",
       "max           209.630000   4037.000000    105.000000    105.000000   \n",
       "\n",
       "              width      distance  days_to_delivery    nb_product  \\\n",
       "count  94193.000000  94193.000000      94193.000000  94193.000000   \n",
       "mean      20.868854    597.466208         11.724300      1.201788   \n",
       "std        9.460304    590.527739          9.240629      0.717389   \n",
       "min        6.000000      0.000000          0.000000      1.000000   \n",
       "25%       14.000000    181.149171          6.000000      1.000000   \n",
       "50%       18.000000    435.537524         10.000000      1.000000   \n",
       "75%       26.000000    795.134516         15.000000      1.000000   \n",
       "max      118.000000   8002.649447        209.000000     21.000000   \n",
       "\n",
       "       product_price  \n",
       "count   94193.000000  \n",
       "mean      101.334271  \n",
       "std       144.921206  \n",
       "min         0.850000  \n",
       "25%        35.900000  \n",
       "50%        64.900000  \n",
       "75%       117.000000  \n",
       "max      4590.000000  "
      ]
     },
     "execution_count": 46,
     "metadata": {},
     "output_type": "execute_result"
    }
   ],
   "source": [
    "data_clean.describe()"
   ]
  },
  {
   "cell_type": "code",
   "execution_count": 47,
   "id": "1d36be5a",
   "metadata": {},
   "outputs": [
    {
     "data": {
      "text/plain": [
       "<AxesSubplot:xlabel='weight'>"
      ]
     },
     "execution_count": 47,
     "metadata": {},
     "output_type": "execute_result"
    },
    {
     "data": {
      "image/png": "[encoded data removed]",
      "text/plain": [
       "<Figure size 640x480 with 1 Axes>"
      ]
     },
     "metadata": {},
     "output_type": "display_data"
    }
   ],
   "source": [
    " sns.boxplot(x =data_clean.weight)"
   ]
  },
  {
   "cell_type": "code",
   "execution_count": 50,
   "id": "b5dd5ded",
   "metadata": {},
   "outputs": [
    {
     "name": "stderr",
     "output_type": "stream",
     "text": [
      "/opt/anaconda3/lib/python3.9/site-packages/seaborn/_decorators.py:36: FutureWarning: Pass the following variable as a keyword arg: x. From version 0.12, the only valid positional argument will be `data`, and passing other arguments without an explicit keyword will result in an error or misinterpretation.\n",
      "  warnings.warn(\n"
     ]
    },
    {
     "data": {
      "text/plain": [
       "<AxesSubplot:xlabel='prix_de_livraison'>"
      ]
     },
     "execution_count": 50,
     "metadata": {},
     "output_type": "execute_result"
    },
    {
     "data": {
      "image/png": "[encoded data removed]",
      "text/plain": [
       "<Figure size 640x480 with 1 Axes>"
      ]
     },
     "metadata": {},
     "output_type": "display_data"
    }
   ],
   "source": [
    " sns.boxplot(data_clean.prix_de_livraison)"
   ]
  },
  {
   "cell_type": "code",
   "execution_count": 51,
   "id": "dbd6d2ea",
   "metadata": {},
   "outputs": [],
   "source": [
    "# sauvergarde des données dans un csv\n",
    "data_clean.to_csv('/Users/justinelv/Documents/simplon/brief/Brief_13 LA DATA DREAM/LA-DATA-DREAM-TEAM-equipe-justine/data_clean.csv', index=False)"
   ]
  },
  {
   "cell_type": "markdown",
   "id": "ba5d5fc3",
   "metadata": {},
   "source": [
    "Voila, ce nouveau fichier CSV va nous servir à entrainer les modèles avec un nouveau set de données nettoyées. "
   ]
  },
  {
   "cell_type": "code",
   "execution_count": null,
   "id": "f028e74d",
   "metadata": {},
   "outputs": [],
   "source": []
  }
 ],
 "metadata": {
  "kernelspec": {
   "display_name": "Python 3 (ipykernel)",
   "language": "python",
   "name": "python3"
  },
  "language_info": {
   "codemirror_mode": {
    "name": "ipython",
    "version": 3
   },
   "file_extension": ".py",
   "mimetype": "text/x-python",
   "name": "python",
   "nbconvert_exporter": "python",
   "pygments_lexer": "ipython3",
   "version": "3.9.13"
  }
 },
 "nbformat": 4,
 "nbformat_minor": 5
}
