{
 "cells": [
  {
   "cell_type": "markdown",
   "id": "06b9d887",
   "metadata": {},
   "source": [
    "# Modèles non linéaires test avec un nouveau jeux de données \"clean\""
   ]
  },
  {
   "cell_type": "code",
   "execution_count": 1,
   "id": "7dd54c86-5ee5-421b-880c-f04da1c7f315",
   "metadata": {},
   "outputs": [],
   "source": [
    "import matplotlib.pyplot as plt\n",
    "from sklearn import svm, metrics\n",
    "from sklearn.model_selection import train_test_split\n",
    "from sklearn.linear_model import LinearRegression, Ridge,Lasso, ElasticNet\n",
    "from sklearn.metrics import mean_squared_error, r2_score\n",
    "import pandas as pd\n",
    "import numpy as np\n",
    "import seaborn as sns\n",
    "from sklearn.metrics import classification_report, confusion_matrix \n",
    "from sklearn.metrics import explained_variance_score,mean_absolute_error\n",
    "from time import time\n",
    "from sklearn.neighbors import KNeighborsRegressor\n",
    "from sklearn.ensemble import GradientBoostingRegressor\n",
    "from sklearn.ensemble import ExtraTreesRegressor, RandomForestRegressor\n",
    "from sklearn.tree import DecisionTreeRegressor"
   ]
  },
  {
   "cell_type": "code",
   "execution_count": 2,
   "id": "d7c36550-b3c9-46ab-925c-08e781bef653",
   "metadata": {},
   "outputs": [],
   "source": [
    "data_base = pd.read_csv(\"data_clean.csv\")"
   ]
  },
  {
   "cell_type": "code",
   "execution_count": 3,
   "id": "2c440596-be1f-4e7a-b5e8-2353dec9f87e",
   "metadata": {},
   "outputs": [],
   "source": [
    "data= data_base[[\"product_price\", \"weight\", \"lenght\", \"height\", \"width\", \"distance\", \"prix_de_livraison\"]]\n",
    "data= data.dropna()\n",
    "X = data.iloc[:,:-1]\n",
    "y = data.iloc[:,-1]\n",
    "\n",
    "#Perform Scaling\n",
    "from sklearn.preprocessing import StandardScaler\n",
    "sc = StandardScaler()\n",
    "X_sc = sc.fit_transform(X)\n",
    "\n",
    "X_train, X_test, y_train, y_test = train_test_split(X_sc,y,test_size=0.2)\n"
   ]
  },
  {
   "cell_type": "code",
   "execution_count": 4,
   "id": "edf77636-8f88-4db6-869c-92f59e2c6ebb",
   "metadata": {},
   "outputs": [],
   "source": [
    "regressors = [\n",
    "    KNeighborsRegressor(),\n",
    "    GradientBoostingRegressor(),\n",
    "    ExtraTreesRegressor(),\n",
    "    RandomForestRegressor(),\n",
    "    DecisionTreeRegressor(),\n",
    "    LinearRegression(),\n",
    "    Lasso(),\n",
    "    ElasticNet(),\n",
    "    Ridge()\n",
    "]"
   ]
  },
  {
   "cell_type": "code",
   "execution_count": 5,
   "id": "e5bd1ce6-3b9c-4cb7-8167-67ba5f792397",
   "metadata": {},
   "outputs": [
    {
     "name": "stdout",
     "output_type": "stream",
     "text": [
      "KNeighborsRegressor()\n",
      "\tTraining time: 0.064s\n",
      "\tPrediction time: 0.247s\n",
      "\tExplained variance: 0.5338541685353915\n",
      "\tMean absolute error: 3.1404907903816555\n",
      "\tR2 score: 0.5336311840464466\n",
      "\n",
      "GradientBoostingRegressor()\n",
      "\tTraining time: 5.242s\n",
      "\tPrediction time: 0.015s\n",
      "\tExplained variance: 0.5749174700322568\n",
      "\tMean absolute error: 3.088276867288908\n",
      "\tR2 score: 0.5749173937818894\n",
      "\n",
      "ExtraTreesRegressor()\n",
      "\tTraining time: 8.612s\n",
      "\tPrediction time: 0.551s\n",
      "\tExplained variance: 0.6080608389449449\n",
      "\tMean absolute error: 2.6249316847319335\n",
      "\tR2 score: 0.6080176775009851\n",
      "\n",
      "RandomForestRegressor()\n",
      "\tTraining time: 22.873s\n",
      "\tPrediction time: 0.473s\n",
      "\tExplained variance: 0.6198277241832163\n",
      "\tMean absolute error: 2.7182794552549407\n",
      "\tR2 score: 0.619752922497607\n",
      "\n",
      "DecisionTreeRegressor()\n",
      "\tTraining time: 0.353s\n",
      "\tPrediction time: 0.005s\n",
      "\tExplained variance: 0.30408201737080076\n",
      "\tMean absolute error: 3.3696236491295313\n",
      "\tR2 score: 0.30407971935445854\n",
      "\n",
      "LinearRegression()\n",
      "\tTraining time: 0.006s\n",
      "\tPrediction time: 0.001s\n",
      "\tExplained variance: 0.517784048544371\n",
      "\tMean absolute error: 3.510284030407053\n",
      "\tR2 score: 0.5177840189559197\n",
      "\n",
      "Lasso()\n",
      "\tTraining time: 0.005s\n",
      "\tPrediction time: 0.000s\n",
      "\tExplained variance: 0.4786061044065285\n",
      "\tMean absolute error: 3.5640120512603026\n",
      "\tR2 score: 0.47860037577999515\n",
      "\n",
      "ElasticNet()\n",
      "\tTraining time: 0.002s\n",
      "\tPrediction time: 0.000s\n",
      "\tExplained variance: 0.4338914151337524\n",
      "\tMean absolute error: 3.739167300022828\n",
      "\tR2 score: 0.43387410820443184\n",
      "\n",
      "Ridge()\n",
      "\tTraining time: 0.004s\n",
      "\tPrediction time: 0.000s\n",
      "\tExplained variance: 0.5177837607556566\n",
      "\tMean absolute error: 3.5102825852494774\n",
      "\tR2 score: 0.5177837312162233\n",
      "\n"
     ]
    }
   ],
   "source": [
    "head = 10\n",
    "for model in regressors[:head]:\n",
    "    start = time()\n",
    "    model.fit(X_train, y_train)\n",
    "    train_time = time() - start\n",
    "    start = time()\n",
    "    y_pred = model.predict(X_test)\n",
    "    predict_time = time()-start    \n",
    "    print(model)\n",
    "    print(\"\\tTraining time: %0.3fs\" % train_time)\n",
    "    print(\"\\tPrediction time: %0.3fs\" % predict_time)\n",
    "    print(\"\\tExplained variance:\", explained_variance_score(y_test, y_pred))\n",
    "    print(\"\\tMean absolute error:\", mean_absolute_error(y_test, y_pred))\n",
    "    print(\"\\tR2 score:\", r2_score(y_test, y_pred))\n",
    "    print()"
   ]
  },
  {
   "cell_type": "code",
   "execution_count": 6,
   "id": "5a67c9f2-1dc8-49b8-bafb-afce9c9a3a0d",
   "metadata": {},
   "outputs": [],
   "source": [
    "from sklearn.model_selection import GridSearchCV\n",
    "parameters = { 'loss' : ['squared_error', 'absolute_error', 'huber', 'quantile'],\n",
    "              'learning_rate' : (0.05,0.25,0.50,1),\n",
    "              'criterion' : ['friedman_mse', 'mse', 'mae'],\n",
    "              'max_features' : ['auto', 'sqrt', 'log2']\n",
    "             }"
   ]
  },
  {
   "cell_type": "markdown",
   "id": "c2ddcb6c",
   "metadata": {},
   "source": [
    "## On se rend compte que les outliers n'ont pas étaient traités de la meilleure façon car les scores de nos algorithmes diminuent. Nous n'utiliseront pas les données data_clean pour entrainer les algos."
   ]
  }
 ],
 "metadata": {
  "kernelspec": {
   "display_name": "Python 3 (ipykernel)",
   "language": "python",
   "name": "python3"
  },
  "language_info": {
   "codemirror_mode": {
    "name": "ipython",
    "version": 3
   },
   "file_extension": ".py",
   "mimetype": "text/x-python",
   "name": "python",
   "nbconvert_exporter": "python",
   "pygments_lexer": "ipython3",
   "version": "3.9.13"
  }
 },
 "nbformat": 4,
 "nbformat_minor": 5
}
