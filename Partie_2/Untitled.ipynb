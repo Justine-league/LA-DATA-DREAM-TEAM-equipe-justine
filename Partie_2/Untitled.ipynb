{
 "cells": [
  {
   "cell_type": "code",
   "execution_count": 1,
   "id": "0ca4b7cf",
   "metadata": {},
   "outputs": [
    {
     "name": "stdout",
     "output_type": "stream",
     "text": [
      "Defaulting to user installation because normal site-packages is not writeable\n",
      "Requirement already satisfied: geopy in c:\\users\\joao0\\appdata\\roaming\\python\\python39\\site-packages (2.3.0)\n",
      "Requirement already satisfied: geographiclib<3,>=1.52 in c:\\users\\joao0\\appdata\\roaming\\python\\python39\\site-packages (from geopy) (2.0)\n",
      "Note: you may need to restart the kernel to use updated packages.\n"
     ]
    }
   ],
   "source": [
    "%pip install geopy"
   ]
  },
  {
   "cell_type": "code",
   "execution_count": 2,
   "id": "7c9a5d85",
   "metadata": {},
   "outputs": [],
   "source": [
    "import sqlite3\n",
    "from sqlite3 import Error\n",
    "import pandas as pd\n",
    "import numpy as np\n",
    "import seaborn as sns\n",
    "import geopy.distance\n",
    "\n",
    "import matplotlib.pyplot as plt\n",
    "\n",
    "import urllib.request\n",
    "import json"
   ]
  },
  {
   "cell_type": "code",
   "execution_count": 3,
   "id": "d817c1e3",
   "metadata": {},
   "outputs": [
    {
     "name": "stdout",
     "output_type": "stream",
     "text": [
      "2.6.0\n"
     ]
    },
    {
     "data": {
      "text/plain": [
       "<sqlite3.Connection at 0x15d430da300>"
      ]
     },
     "execution_count": 3,
     "metadata": {},
     "output_type": "execute_result"
    }
   ],
   "source": [
    "db_name = \"../database/e-commerce.db\"\n",
    "\n",
    "def create_connection(db_file):\n",
    "    \"\"\" create a database connection to the SQLite database\n",
    "        specified by db_file\n",
    "    :param db_file: database file\n",
    "    :return: Connection object or None\n",
    "    \"\"\"\n",
    "    # YOUR CODE\n",
    "    try:\n",
    "        conn = sqlite3.connect(db_file)\n",
    "        print(sqlite3.version)\n",
    "        return conn\n",
    "    except Error as e:\n",
    "        print(e)\n",
    "        \n",
    "\n",
    "\n",
    "conn = create_connection(db_name)\n",
    "conn"
   ]
  },
  {
   "cell_type": "code",
   "execution_count": null,
   "id": "5b5968f1",
   "metadata": {},
   "outputs": [],
   "source": [
    "\n",
    "    cur = conn.cursor()\n",
    "#     the table wight_cm can become width_cm   --> order_delivered_carrier_date == order_delivered_customer_date\n",
    "    cur.execute('''\n",
    "                SELECT \n",
    "                order_item.item_id, \n",
    "                order_item.freight_value, \n",
    "                order_item.price, \n",
    "                weight_g,\n",
    "                lenght_cm, \n",
    "                height_cm, \n",
    "                width_cm, \n",
    "                customer.zip_code, \n",
    "                seller.zip_code, \n",
    "                order_dataset.purchase_timestamp,\n",
    "                order_dataset.order_estimated_delivery_date, \n",
    "                order_dataset.order_delivered_customer_date\n",
    "                FROM product\n",
    "                LEFT JOIN order_item ON product.id = order_item.product_id\n",
    "                LEFT JOIN order_dataset ON order_item.order_id = order_dataset.order_id\n",
    "                LEFT JOIN customer ON customer.id = order_dataset.customer_id          \n",
    "                LEFT JOIN seller ON order_item.seller_id = seller.id                \n",
    "                ''')\n",
    "    \n",
    "    res_cur = cur.fetchall()\n",
    "    "
   ]
  },
  {
   "cell_type": "code",
   "execution_count": null,
   "id": "e2599259",
   "metadata": {},
   "outputs": [],
   "source": [
    "df_bdd = pd.DataFrame(res_cur, columns=[\"nb_product\", \"prix_de_livraison\", \"product_price\", \"weight\", \"lenght\", \"height\", \"width\", \"zip_code_customer\", \"zip_code_seller\", \"date_purchase\", \"date_delevery_estimate\", \"date_delivery\"])\n",
    "df_bdd"
   ]
  },
  {
   "cell_type": "code",
   "execution_count": null,
   "id": "908ce622",
   "metadata": {},
   "outputs": [],
   "source": [
    "cur = conn.cursor()\n",
    "#     the table wight_cm can become width_cm   --> order_delivered_carrier_date == order_delivered_customer_date\n",
    "cur.execute('''\n",
    "            SELECT \n",
    "            zip_code, latitude, longitude\n",
    "            FROM geolocation\n",
    "            ''')\n",
    "\n",
    "res_cur = cur.fetchall()\n",
    "\n",
    "df_geoloc = pd.DataFrame(res_cur, columns=[\"zip_code\", \"latitude\", \"longitude\"])\n",
    "df_geoloc\n"
   ]
  },
  {
   "cell_type": "code",
   "execution_count": null,
   "id": "965165cf",
   "metadata": {},
   "outputs": [],
   "source": [
    "df_bdd = df_bdd.merge(df_geoloc.drop_duplicates(['zip_code']), left_on='zip_code_customer', right_on='zip_code', how=\"left\", suffixes = (\"\",\"_customer\"))\n",
    "df_bdd"
   ]
  },
  {
   "cell_type": "code",
   "execution_count": null,
   "id": "e1453b50",
   "metadata": {},
   "outputs": [],
   "source": [
    "df_bdd = df_bdd.merge(df_geoloc.drop_duplicates(['zip_code']), left_on='zip_code_seller', right_on='zip_code', how=\"left\", suffixes = (\"\",\"_seller\"))\n",
    "df_bdd"
   ]
  },
  {
   "cell_type": "code",
   "execution_count": null,
   "id": "432a18b2",
   "metadata": {},
   "outputs": [],
   "source": [
    "df_bdd = df_bdd.rename({'latitude': 'latitude_customer', 'longitude': 'longitude_customer'}, axis=1)\n",
    "df_bdd"
   ]
  },
  {
   "cell_type": "markdown",
   "id": "16ae97fc",
   "metadata": {},
   "source": [
    "## pour trouver la distance entre les geolocalisation nous tester plusieurs solutions.\n",
    "### Solution 1:"
   ]
  },
  {
   "cell_type": "code",
   "execution_count": null,
   "id": "6bf927bc",
   "metadata": {},
   "outputs": [],
   "source": [
    "from math import sin, cos, sqrt, atan2, radians\n",
    "\n",
    "# approximate radius of earth in km\n",
    "R = 6373.0\n",
    "\n",
    "lat1 = radians(-22.2569861454338)\n",
    "lon1 = radians(-45.6968690671541)\n",
    "lat2 = radians(-22.4733036420427)\n",
    "lon2 = radians(-45.6139087768263)\n",
    "\n",
    "dlon = lon2 - lon1\n",
    "dlat = lat2 - lat1\n",
    "\n",
    "a = sin(dlat / 2)**2 + cos(lat1) * cos(lat2) * sin(dlon / 2)**2\n",
    "c = 2 * atan2(sqrt(a), sqrt(1 - a))\n",
    "\n",
    "distance = R * c\n",
    "\n",
    "print(\"Result:\", distance)\n",
    "print(\"Should be:\", 278.546, \"km\")"
   ]
  },
  {
   "cell_type": "markdown",
   "id": "facfcef7",
   "metadata": {},
   "source": [
    "\n",
    "### Solution 2:\n",
    "### nous decidons de garder d'utiliser cette methode car plus simple et lisible."
   ]
  },
  {
   "cell_type": "code",
   "execution_count": null,
   "id": "e32eceaf",
   "metadata": {},
   "outputs": [],
   "source": [
    "coords_1 = (-22.2569861454338, -45.6968690671541)\n",
    "coords_2 = (-22.4733036420427, -45.6139087768263)\n",
    "\n",
    "print(geopy.distance.geodesic(coords_1, coords_2).km)"
   ]
  },
  {
   "cell_type": "code",
   "execution_count": null,
   "id": "a6eebdc9",
   "metadata": {},
   "outputs": [],
   "source": []
  },
  {
   "cell_type": "code",
   "execution_count": null,
   "id": "fefdd453",
   "metadata": {},
   "outputs": [],
   "source": [
    "distance = {\"distance\" : []\n",
    "           }\n",
    "\n",
    "\n",
    "for latitude_customer, longitude_customer, latitude_seller, longitude_seller in df_bdd[[\"latitude_customer\",\"longitude_customer\", \"latitude_seller\", \"longitude_seller\"]].to_numpy():\n",
    "    coords_1 = (float(latitude_customer), float(longitude_customer))\n",
    "    coords_2 = (float(latitude_seller), float(longitude_seller))\n",
    "    try:\n",
    "        res = geopy.distance.geodesic(coords_1, coords_2).km\n",
    "        distance[\"distance\"].append(res)\n",
    "    except:\n",
    "        distance[\"distance\"].append(np.nan)\n",
    "        print(\"error\")\n",
    "    \n",
    "df_bdd[\"distance\"] = distance[\"distance\"]\n",
    "df_bdd\n",
    "\n",
    "# #     distance.append(geopy.distance.geodesic(coords_1, coords_2).km)\n",
    "# for longitude, latitude in geoloc.items():\n",
    "#     if longitude != 'nan' or latitude != 'nan':\n",
    "#         print(longitude, latitude)\n",
    "\n",
    "\n"
   ]
  },
  {
   "cell_type": "markdown",
   "id": "dd52a812",
   "metadata": {},
   "source": [
    "### on verifie que les valeurs inserer avec geopy sont bonne"
   ]
  },
  {
   "cell_type": "code",
   "execution_count": null,
   "id": "16e3a62d",
   "metadata": {},
   "outputs": [],
   "source": [
    "print(geopy.distance.geodesic((-22.331249, -46.922580), (-23.537922, -46.477696)).km)\n",
    "print(geopy.distance.geodesic((-22.915371, -43.242996), (-23.468441, -46.720688)).km)"
   ]
  },
  {
   "cell_type": "code",
   "execution_count": null,
   "id": "5f527bbc",
   "metadata": {},
   "outputs": [],
   "source": [
    "for date in df_bdd[[\"date_purchase\", \"date_delevery_estimate\", \"date_delivery\"]]:"
   ]
  },
  {
   "cell_type": "code",
   "execution_count": null,
   "id": "60061674",
   "metadata": {},
   "outputs": [],
   "source": [
    "# calculate the correlation matrix\n",
    "corr = df_bdd[[\"nb_product\", \"prix_de_livraison\", \"product_price\", \"weight\", \"lenght\", \"height\", \"width\", \"distance\"]].corr()\n",
    "\n",
    "# plot the heatmap\n",
    "sns.heatmap(corr, \n",
    "        xticklabels=corr.columns,\n",
    "        yticklabels=corr.columns, annot=True)"
   ]
  },
  {
   "cell_type": "code",
   "execution_count": null,
   "id": "8f7cd3ae",
   "metadata": {},
   "outputs": [],
   "source": []
  },
  {
   "cell_type": "code",
   "execution_count": null,
   "id": "fd0925c3",
   "metadata": {},
   "outputs": [],
   "source": []
  },
  {
   "cell_type": "code",
   "execution_count": null,
   "id": "429873e9",
   "metadata": {},
   "outputs": [],
   "source": []
  }
 ],
 "metadata": {
  "kernelspec": {
   "display_name": "Python 3 (ipykernel)",
   "language": "python",
   "name": "python3"
  },
  "language_info": {
   "codemirror_mode": {
    "name": "ipython",
    "version": 3
   },
   "file_extension": ".py",
   "mimetype": "text/x-python",
   "name": "python",
   "nbconvert_exporter": "python",
   "pygments_lexer": "ipython3",
   "version": "3.9.13"
  }
 },
 "nbformat": 4,
 "nbformat_minor": 5
}
