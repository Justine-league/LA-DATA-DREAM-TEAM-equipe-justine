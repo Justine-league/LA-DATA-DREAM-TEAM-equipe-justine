{
 "cells": [
  {
   "cell_type": "markdown",
   "id": "c5caf137",
   "metadata": {},
   "source": [
    "# Modèle non linéaires"
   ]
  },
  {
   "cell_type": "code",
   "execution_count": 2,
   "id": "7dd54c86-5ee5-421b-880c-f04da1c7f315",
   "metadata": {},
   "outputs": [],
   "source": [
    "import matplotlib.pyplot as plt\n",
    "from sklearn import svm, metrics\n",
    "from sklearn.model_selection import train_test_split\n",
    "from sklearn.linear_model import LinearRegression, Ridge,Lasso, ElasticNet\n",
    "from sklearn.metrics import mean_squared_error, r2_score\n",
    "import pandas as pd\n",
    "import numpy as np\n",
    "import seaborn as sns\n",
    "from sklearn.metrics import classification_report, confusion_matrix \n",
    "from sklearn.metrics import explained_variance_score,mean_absolute_error\n",
    "from time import time\n",
    "from sklearn.neighbors import KNeighborsRegressor\n",
    "from sklearn.ensemble import GradientBoostingRegressor\n",
    "from sklearn.ensemble import ExtraTreesRegressor, RandomForestRegressor\n",
    "from sklearn.tree import DecisionTreeRegressor"
   ]
  },
  {
   "cell_type": "code",
   "execution_count": 5,
   "id": "d7c36550-b3c9-46ab-925c-08e781bef653",
   "metadata": {},
   "outputs": [],
   "source": [
    "data_base = pd.read_csv(\"../data_without_zero.csv\")"
   ]
  },
  {
   "cell_type": "code",
   "execution_count": 6,
   "id": "2c440596-be1f-4e7a-b5e8-2353dec9f87e",
   "metadata": {},
   "outputs": [],
   "source": [
    "\n",
    "data= data_base[[\"product_price\", \"weight\", \"lenght\", \"height\", \"width\", \"distance\", \"prix_de_livraison\"]]\n",
    "data= data.dropna()\n",
    "X = data.iloc[:,:-1]\n",
    "y = data.iloc[:,-1]\n",
    "\n",
    "#Perform Scaling\n",
    "from sklearn.preprocessing import StandardScaler\n",
    "sc = StandardScaler()\n",
    "X_sc = sc.fit_transform(X)\n",
    "\n",
    "X_train, X_test, y_train, y_test = train_test_split(X_sc,y,test_size=0.2)\n"
   ]
  },
  {
   "cell_type": "code",
   "execution_count": 7,
   "id": "edf77636-8f88-4db6-869c-92f59e2c6ebb",
   "metadata": {},
   "outputs": [],
   "source": [
    "regressors = [\n",
    "    KNeighborsRegressor(),\n",
    "    GradientBoostingRegressor(),\n",
    "    ExtraTreesRegressor(),\n",
    "    RandomForestRegressor(),\n",
    "    DecisionTreeRegressor(),\n",
    "    LinearRegression(),\n",
    "    Lasso(),\n",
    "    ElasticNet(),\n",
    "    Ridge()\n",
    "]"
   ]
  },
  {
   "cell_type": "code",
   "execution_count": 8,
   "id": "e5bd1ce6-3b9c-4cb7-8167-67ba5f792397",
   "metadata": {},
   "outputs": [
    {
     "name": "stdout",
     "output_type": "stream",
     "text": [
      "KNeighborsRegressor()\n",
      "\tTraining time: 0.046s\n",
      "\tPrediction time: 0.270s\n",
      "\tExplained variance: 0.6863313659029493\n",
      "\tMean absolute error: 4.123149415807561\n",
      "\tR2 score: 0.6861021272019532\n",
      "\n",
      "GradientBoostingRegressor()\n",
      "\tTraining time: 6.535s\n",
      "\tPrediction time: 0.016s\n",
      "\tExplained variance: 0.6972443953594978\n",
      "\tMean absolute error: 4.2860942565066384\n",
      "\tR2 score: 0.6972416886261731\n",
      "\n",
      "ExtraTreesRegressor()\n",
      "\tTraining time: 10.594s\n",
      "\tPrediction time: 0.699s\n",
      "\tExplained variance: 0.7478114236855581\n",
      "\tMean absolute error: 3.4303962021924397\n",
      "\tR2 score: 0.74775446903714\n",
      "\n",
      "RandomForestRegressor()\n",
      "\tTraining time: 28.165s\n",
      "\tPrediction time: 0.577s\n",
      "\tExplained variance: 0.7505268625625967\n",
      "\tMean absolute error: 3.5951366017976634\n",
      "\tR2 score: 0.7504617025883475\n",
      "\n",
      "DecisionTreeRegressor()\n",
      "\tTraining time: 0.444s\n",
      "\tPrediction time: 0.007s\n",
      "\tExplained variance: 0.505152028149134\n",
      "\tMean absolute error: 4.5635931717766764\n",
      "\tR2 score: 0.5049919367424058\n",
      "\n",
      "LinearRegression()\n",
      "\tTraining time: 0.007s\n",
      "\tPrediction time: 0.001s\n",
      "\tExplained variance: 0.5768002806792123\n",
      "\tMean absolute error: 5.153411385820819\n",
      "\tR2 score: 0.5768002801846868\n",
      "\n",
      "Lasso()\n",
      "\tTraining time: 0.007s\n",
      "\tPrediction time: 0.000s\n",
      "\tExplained variance: 0.567071181094257\n",
      "\tMean absolute error: 5.037991531995531\n",
      "\tR2 score: 0.56707030362473\n",
      "\n",
      "ElasticNet()\n",
      "\tTraining time: 0.005s\n",
      "\tPrediction time: 0.000s\n",
      "\tExplained variance: 0.5212353066662094\n",
      "\tMean absolute error: 5.345372039913119\n",
      "\tR2 score: 0.5212260378433256\n",
      "\n",
      "Ridge()\n",
      "\tTraining time: 0.004s\n",
      "\tPrediction time: 0.000s\n",
      "\tExplained variance: 0.5768003510486057\n",
      "\tMean absolute error: 5.1534060642860755\n",
      "\tR2 score: 0.5768003505493844\n",
      "\n"
     ]
    }
   ],
   "source": [
    "head = 10\n",
    "for model in regressors[:head]:\n",
    "    start = time()\n",
    "    model.fit(X_train, y_train)\n",
    "    train_time = time() - start\n",
    "    start = time()\n",
    "    y_pred = model.predict(X_test)\n",
    "    predict_time = time()-start    \n",
    "    print(model)\n",
    "    print(\"\\tTraining time: %0.3fs\" % train_time)\n",
    "    print(\"\\tPrediction time: %0.3fs\" % predict_time)\n",
    "    print(\"\\tExplained variance:\", explained_variance_score(y_test, y_pred))\n",
    "    print(\"\\tMean absolute error:\", mean_absolute_error(y_test, y_pred))\n",
    "    print(\"\\tR2 score:\", r2_score(y_test, y_pred))\n",
    "    print()"
   ]
  },
  {
   "cell_type": "markdown",
   "id": "854ef825",
   "metadata": {},
   "source": [
    "# Le fait d'enlever les prix de livraison qui sont à zero améliore les scores de nos algo."
   ]
  },
  {
   "cell_type": "code",
   "execution_count": null,
   "id": "7670eff6",
   "metadata": {},
   "outputs": [],
   "source": []
  }
 ],
 "metadata": {
  "kernelspec": {
   "display_name": "Python 3 (ipykernel)",
   "language": "python",
   "name": "python3"
  },
  "language_info": {
   "codemirror_mode": {
    "name": "ipython",
    "version": 3
   },
   "file_extension": ".py",
   "mimetype": "text/x-python",
   "name": "python",
   "nbconvert_exporter": "python",
   "pygments_lexer": "ipython3",
   "version": "3.9.13"
  }
 },
 "nbformat": 4,
 "nbformat_minor": 5
}
